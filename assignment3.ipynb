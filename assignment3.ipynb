{
 "cells": [
  {
   "cell_type": "code",
   "execution_count": 2,
   "id": "f8a86fb9",
   "metadata": {},
   "outputs": [],
   "source": [
    "#importing libraries\n",
    "import numpy as np\n",
    "import pandas as pd\n",
    "import seaborn as sns\n",
    "import matplotlib.pyplot as plt\n",
    "from scipy import stats\n"
   ]
  },
  {
   "cell_type": "code",
   "execution_count": null,
   "id": "22120ee0",
   "metadata": {},
   "outputs": [],
   "source": [
    "#importing datasets\n",
    "d1 =pd.read_csv(\"./dataset1.csv\")\n",
    "d1\n",
    "d2 = pd.read_csv(\"./dataset2.csv\")\n",
    "d2\n",
    "\n",
    "#d1 is dataset1 and d2 is dataset2"
   ]
  },
  {
   "cell_type": "code",
   "execution_count": 71,
   "id": "368cb2ea",
   "metadata": {},
   "outputs": [
    {
     "name": "stdout",
     "output_type": "stream",
     "text": [
      "(906, 12)\n",
      "         start_time  bat_landing_to_food habit  rat_period_start  \\\n",
      "0  30/12/2017 18:37            16.000000   rat  30/12/2017 18:35   \n",
      "1  30/12/2017 19:51             0.074016  fast  30/12/2017 19:50   \n",
      "2  30/12/2017 19:51             4.000000  fast  30/12/2017 19:50   \n",
      "3  30/12/2017 19:52            10.000000   rat  30/12/2017 19:50   \n",
      "4  30/12/2017 19:54            15.000000   rat  30/12/2017 19:50   \n",
      "\n",
      "     rat_period_end  seconds_after_rat_arrival  risk  reward  month  \\\n",
      "0  30/12/2017 18:38                        108     1       0      0   \n",
      "1  30/12/2017 19:55                         17     0       1      0   \n",
      "2  30/12/2017 19:55                         41     0       1      0   \n",
      "3  30/12/2017 19:55                        111     1       0      0   \n",
      "4  30/12/2017 19:55                        194     1       0      0   \n",
      "\n",
      "        sunset_time  hours_after_sunset  season  \n",
      "0  30/12/2017 16:45            1.870833       0  \n",
      "1  30/12/2017 16:45            3.100833       0  \n",
      "2  30/12/2017 16:45            3.107500       0  \n",
      "3  30/12/2017 16:45            3.126944       0  \n",
      "4  30/12/2017 16:45            3.150000       0  \n",
      "          start_time  bat_landing_to_food     habit rat_period_start  \\\n",
      "902   4/05/2018 4:18                  2.0       rat   4/05/2018 4:14   \n",
      "903   4/05/2018 4:18                  1.0      fast   4/05/2018 4:14   \n",
      "904   4/05/2018 4:19                 22.0      pick   4/05/2018 4:14   \n",
      "905  3/05/2018 23:51                  2.0      fast  3/05/2018 23:46   \n",
      "906   4/05/2018 5:39                120.0  pick_rat   4/05/2018 5:37   \n",
      "\n",
      "      rat_period_end  seconds_after_rat_arrival  risk  reward  month  \\\n",
      "902   4/05/2018 4:30                        224     1       0      5   \n",
      "903   4/05/2018 4:30                        275     0       1      5   \n",
      "904   4/05/2018 4:30                        310     0       1      5   \n",
      "905  3/05/2018 23:52                        339     0       1      5   \n",
      "906   4/05/2018 6:10                        143     1       1      5   \n",
      "\n",
      "         sunset_time  hours_after_sunset  season  \n",
      "902  3/05/2018 19:22            8.933333       1  \n",
      "903  3/05/2018 19:22            8.947500       1  \n",
      "904  3/05/2018 19:22            8.957222       1  \n",
      "905  3/05/2018 19:22            4.498889       1  \n",
      "906  3/05/2018 19:22           10.297500       1  \n",
      "       bat_landing_to_food  hours_after_sunset\n",
      "count           906.000000          906.000000\n",
      "mean             11.720544            5.532579\n",
      "std              27.658777            2.415383\n",
      "min               0.010238           -0.261667\n",
      "25%               1.000000            3.775069\n",
      "50%               4.000000            5.627083\n",
      "75%              11.750000            7.406250\n",
      "max             443.000000           12.091944\n",
      "       seconds_after_rat_arrival        risk      reward       month  \\\n",
      "count                 906.000000  906.000000  906.000000  906.000000   \n",
      "mean                  282.786976    0.494481    0.534216    3.800221   \n",
      "std                   241.092545    0.500246    0.499103    1.199834   \n",
      "min                     0.000000    0.000000    0.000000    0.000000   \n",
      "25%                    89.250000    0.000000    0.000000    4.000000   \n",
      "50%                   206.000000    0.000000    1.000000    4.000000   \n",
      "75%                   447.250000    1.000000    1.000000    5.000000   \n",
      "max                   949.000000    1.000000    1.000000    5.000000   \n",
      "\n",
      "           season  \n",
      "count  906.000000  \n",
      "mean     0.833333  \n",
      "std      0.372884  \n",
      "min      0.000000  \n",
      "25%      1.000000  \n",
      "50%      1.000000  \n",
      "75%      1.000000  \n",
      "max      1.000000  \n",
      "             start_time habit  rat_period_start    rat_period_end  \\\n",
      "count               906   906               906               906   \n",
      "unique              628    82               268               268   \n",
      "top     21/04/2018 2:17  fast  26/04/2018 22:25  26/04/2018 22:36   \n",
      "freq                  6   245                29                29   \n",
      "\n",
      "             sunset_time  \n",
      "count                906  \n",
      "unique                65  \n",
      "top     26/04/2018 19:17  \n",
      "freq                 101  \n"
     ]
    }
   ],
   "source": [
    "#reading the dataset1, analyzing dtypes\n",
    "print (d1.shape)\n",
    "print (d1.head(5))\n",
    "print (d1.tail())\n",
    "print(d1.describe(include =\"float64\"))\n",
    "print(d1.describe(include =\"int64\"))\n",
    "print(d1.describe(include=\"object\"))\n",
    "\n"
   ]
  },
  {
   "cell_type": "markdown",
   "id": "ce6d5bcf",
   "metadata": {},
   "source": [
    "Investigation B \n",
    "Do the behaviours described above change following seasonal changes? \n",
    "It is known that in winter, alternative food sources are scarce and rat encounters are less frequent. In spring, food is more abundant and rat encounters are more common. To provide answers to both investigations, your team should decide the appropriate data science techniques to use for analysing the following datasets."
   ]
  },
  {
   "cell_type": "code",
   "execution_count": 72,
   "id": "690c5aec",
   "metadata": {},
   "outputs": [],
   "source": [
    "#We must see if bat–rat interactions or bat behaviours differ by season.\n",
    "#Bat behaviour (risk, reward, vigilance time)\n",
    "#Rat activity (rat arrivals, rat minutes)\n",
    "#Food availability and see if these vary noticeably between winter and spring."
   ]
  },
  {
   "cell_type": "code",
   "execution_count": 73,
   "id": "a7d7aa2c",
   "metadata": {},
   "outputs": [
    {
     "data": {
      "text/plain": [
       "season\n",
       "1    755\n",
       "0    151\n",
       "Name: count, dtype: int64"
      ]
     },
     "execution_count": 73,
     "metadata": {},
     "output_type": "execute_result"
    }
   ],
   "source": [
    "#counting values for season column in d1\n",
    "d1['season'].value_counts()"
   ]
  },
  {
   "cell_type": "code",
   "execution_count": 74,
   "id": "558c8bc1",
   "metadata": {},
   "outputs": [
    {
     "data": {
      "text/html": [
       "<div>\n",
       "<style scoped>\n",
       "    .dataframe tbody tr th:only-of-type {\n",
       "        vertical-align: middle;\n",
       "    }\n",
       "\n",
       "    .dataframe tbody tr th {\n",
       "        vertical-align: top;\n",
       "    }\n",
       "\n",
       "    .dataframe thead th {\n",
       "        text-align: right;\n",
       "    }\n",
       "</style>\n",
       "<table border=\"1\" class=\"dataframe\">\n",
       "  <thead>\n",
       "    <tr style=\"text-align: right;\">\n",
       "      <th></th>\n",
       "      <th>bat_landing_to_food</th>\n",
       "      <th>risk</th>\n",
       "      <th>reward</th>\n",
       "    </tr>\n",
       "    <tr>\n",
       "      <th>season</th>\n",
       "      <th></th>\n",
       "      <th></th>\n",
       "      <th></th>\n",
       "    </tr>\n",
       "  </thead>\n",
       "  <tbody>\n",
       "    <tr>\n",
       "      <th>0</th>\n",
       "      <td>6.039623</td>\n",
       "      <td>0.562914</td>\n",
       "      <td>0.364238</td>\n",
       "    </tr>\n",
       "    <tr>\n",
       "      <th>1</th>\n",
       "      <td>12.856728</td>\n",
       "      <td>0.480795</td>\n",
       "      <td>0.568212</td>\n",
       "    </tr>\n",
       "  </tbody>\n",
       "</table>\n",
       "</div>"
      ],
      "text/plain": [
       "        bat_landing_to_food      risk    reward\n",
       "season                                         \n",
       "0                  6.039623  0.562914  0.364238\n",
       "1                 12.856728  0.480795  0.568212"
      ]
     },
     "execution_count": 74,
     "metadata": {},
     "output_type": "execute_result"
    }
   ],
   "source": [
    "#grouping for seasonal statistical summary\n",
    "d1.groupby('season')[['bat_landing_to_food', 'risk', 'reward']].mean()"
   ]
  },
  {
   "cell_type": "code",
   "execution_count": 75,
   "id": "54a48930",
   "metadata": {},
   "outputs": [
    {
     "data": {
      "text/plain": [
       "start_time                   0\n",
       "bat_landing_to_food          0\n",
       "habit                        0\n",
       "rat_period_start             0\n",
       "rat_period_end               0\n",
       "seconds_after_rat_arrival    0\n",
       "risk                         0\n",
       "reward                       0\n",
       "month                        0\n",
       "sunset_time                  0\n",
       "hours_after_sunset           0\n",
       "season                       0\n",
       "dtype: int64"
      ]
     },
     "execution_count": 75,
     "metadata": {},
     "output_type": "execute_result"
    }
   ],
   "source": [
    "#data cleaning\n",
    "#finding missing values\n",
    "d1.isnull().sum()\n",
    "#let's fill missing values instead of dropping\n",
    "d1= d1.fillna({'habit':'NA'})\n",
    "#rechecking the missing values\n",
    "d1.isnull().sum()\n",
    "\n"
   ]
  },
  {
   "cell_type": "code",
   "execution_count": 76,
   "id": "93d0b0d1",
   "metadata": {},
   "outputs": [
    {
     "name": "stdout",
     "output_type": "stream",
     "text": [
      "0\n",
      "0\n"
     ]
    }
   ],
   "source": [
    "#checking for duplicates:\n",
    "dup1= print(d1.duplicated().sum())\n",
    "dup2= print(d2.duplicated().sum())"
   ]
  },
  {
   "cell_type": "code",
   "execution_count": 77,
   "id": "c753425b",
   "metadata": {},
   "outputs": [
    {
     "name": "stdout",
     "output_type": "stream",
     "text": [
      "0\n"
     ]
    }
   ],
   "source": [
    "# dropping the 1duplicate in dataset1\n",
    "d1 = d1.drop_duplicates(keep='last')\n",
    "\n",
    "#checking the update\n",
    "dup1= print(d1.duplicated().sum())"
   ]
  },
  {
   "cell_type": "code",
   "execution_count": 84,
   "id": "19276fce",
   "metadata": {},
   "outputs": [
    {
     "data": {
      "text/plain": [
       "time                  0\n",
       "month                 0\n",
       "hours_after_sunset    0\n",
       "bat_landing_number    0\n",
       "food_availability     0\n",
       "rat_minutes           0\n",
       "rat_arrival_number    0\n",
       "dtype: int64"
      ]
     },
     "execution_count": 84,
     "metadata": {},
     "output_type": "execute_result"
    }
   ],
   "source": [
    "#missing values of d2\n",
    "d2.isnull().sum()\n",
    "\n",
    "#output- 0 missing values\n"
   ]
  },
  {
   "cell_type": "code",
   "execution_count": 98,
   "id": "e82228fe",
   "metadata": {},
   "outputs": [],
   "source": [
    "#inner merging\n",
    "merged1 = pd.merge(d1, d2)\n",
    "\n",
    "# Save the merged dataset to a new CSV file\n",
    "merged1.to_csv('in_merged_dataset.csv', index=False)\n"
   ]
  },
  {
   "cell_type": "code",
   "execution_count": 99,
   "id": "eaffd5d3",
   "metadata": {},
   "outputs": [
    {
     "name": "stdout",
     "output_type": "stream",
     "text": [
      "Inner merge shape (number of rows, columns): (20, 17)\n",
      "Unique months in inner merge: [4]\n",
      "Counts per month in inner merge:\n",
      "month\n",
      "4    20\n",
      "Name: count, dtype: int64\n"
     ]
    }
   ],
   "source": [
    "#inner merge data analysis\n",
    "print(\"Inner merge shape (number of rows, columns):\", merged1.shape)\n",
    "# Unique months in inner merge\n",
    "print(\"Unique months in inner merge:\", merged1['month'].unique())\n",
    "print(\"Counts per month in inner merge:\")\n",
    "print(merged1['month'].value_counts())\n",
    "\n"
   ]
  },
  {
   "cell_type": "code",
   "execution_count": 105,
   "id": "62bf5b11",
   "metadata": {},
   "outputs": [
    {
     "name": "stdout",
     "output_type": "stream",
     "text": [
      "  start_time  bat_landing_to_food habit rat_period_start rat_period_end  \\\n",
      "0        NaN                  NaN   NaN              NaN            NaN   \n",
      "1        NaN                  NaN   NaN              NaN            NaN   \n",
      "2        NaN                  NaN   NaN              NaN            NaN   \n",
      "3        NaN                  NaN   NaN              NaN            NaN   \n",
      "4        NaN                  NaN   NaN              NaN            NaN   \n",
      "\n",
      "   seconds_after_rat_arrival  risk  reward  month sunset_time  \\\n",
      "0                        NaN   NaN     NaN      0         NaN   \n",
      "1                        NaN   NaN     NaN      0         NaN   \n",
      "2                        NaN   NaN     NaN      0         NaN   \n",
      "3                        NaN   NaN     NaN      0         NaN   \n",
      "4                        NaN   NaN     NaN      0         NaN   \n",
      "\n",
      "   hours_after_sunset  season              time  bat_landing_number  \\\n",
      "0                -2.0     NaN  29/12/2017 14:45                 7.0   \n",
      "1                -2.0     NaN  30/12/2017 14:45                10.0   \n",
      "2                -1.5     NaN  29/12/2017 15:15                 1.0   \n",
      "3                -1.5     NaN  30/12/2017 15:15                14.0   \n",
      "4                -1.0     NaN  29/12/2017 15:45                 1.0   \n",
      "\n",
      "   food_availability  rat_minutes  rat_arrival_number  \n",
      "0                4.0          0.0                 0.0  \n",
      "1                0.0          0.0                 0.0  \n",
      "2                4.0          0.0                 0.0  \n",
      "3                0.0          0.0                 0.0  \n",
      "4                4.0          0.0                 0.0  \n"
     ]
    }
   ],
   "source": [
    "#data merging\n",
    "merged2 = pd.merge(d1, d2, how='outer') # outer because tried using the defult inner which deleted everything except the 20 row that overlapped\n",
    "\n",
    "# Save the merged dataset to a new CSV file\n",
    "merged2.to_csv('out_merged_dataset.csv', index=False)\n",
    "\n",
    "#check first few rows\n",
    "print(merged2.head())"
   ]
  },
  {
   "cell_type": "code",
   "execution_count": null,
   "id": "da30fb6e",
   "metadata": {},
   "outputs": [
    {
     "name": "stdout",
     "output_type": "stream",
     "text": [
      "Unique months: [4]\n",
      "Shape of merged dataset: (20, 17)\n"
     ]
    }
   ],
   "source": [
    "# Check that all months are now present\n",
    "print(\"Unique months:\", merged2['month'].unique())\n",
    "print(\"Shape of merged dataset:\", merged2.shape)\n"
   ]
  },
  {
   "cell_type": "code",
   "execution_count": 110,
   "id": "aab419e3",
   "metadata": {},
   "outputs": [
    {
     "data": {
      "text/plain": [
       "start_time                   2103\n",
       "bat_landing_to_food          2103\n",
       "habit                        2103\n",
       "rat_period_start             2103\n",
       "rat_period_end               2103\n",
       "seconds_after_rat_arrival    2103\n",
       "risk                         2103\n",
       "reward                       2103\n",
       "month                           0\n",
       "sunset_time                  2103\n",
       "hours_after_sunset              0\n",
       "season                       2103\n",
       "time                          905\n",
       "bat_landing_number            905\n",
       "food_availability             905\n",
       "rat_minutes                   905\n",
       "rat_arrival_number            905\n",
       "dtype: int64"
      ]
     },
     "execution_count": 110,
     "metadata": {},
     "output_type": "execute_result"
    }
   ],
   "source": [
    "#cleaning the new(merged) dataset\n",
    "\n",
    "merged2.isnull().sum()\n",
    "\n",
    "#no null values"
   ]
  },
  {
   "cell_type": "code",
   "execution_count": 111,
   "id": "e38b228d",
   "metadata": {},
   "outputs": [
    {
     "data": {
      "text/plain": [
       "np.int64(0)"
      ]
     },
     "execution_count": 111,
     "metadata": {},
     "output_type": "execute_result"
    }
   ],
   "source": [
    "#checking for duplicates\n",
    "merged.duplicated().sum()\n",
    "\n",
    "#no duplicates either"
   ]
  },
  {
   "cell_type": "code",
   "execution_count": 112,
   "id": "5006d250",
   "metadata": {},
   "outputs": [
    {
     "data": {
      "text/html": [
       "<div>\n",
       "<style scoped>\n",
       "    .dataframe tbody tr th:only-of-type {\n",
       "        vertical-align: middle;\n",
       "    }\n",
       "\n",
       "    .dataframe tbody tr th {\n",
       "        vertical-align: top;\n",
       "    }\n",
       "\n",
       "    .dataframe thead th {\n",
       "        text-align: right;\n",
       "    }\n",
       "</style>\n",
       "<table border=\"1\" class=\"dataframe\">\n",
       "  <thead>\n",
       "    <tr style=\"text-align: right;\">\n",
       "      <th></th>\n",
       "      <th>bat_landing_to_food</th>\n",
       "      <th>seconds_after_rat_arrival</th>\n",
       "      <th>risk</th>\n",
       "      <th>reward</th>\n",
       "      <th>month</th>\n",
       "      <th>hours_after_sunset</th>\n",
       "      <th>season</th>\n",
       "      <th>bat_landing_number</th>\n",
       "      <th>food_availability</th>\n",
       "      <th>rat_minutes</th>\n",
       "      <th>rat_arrival_number</th>\n",
       "    </tr>\n",
       "  </thead>\n",
       "  <tbody>\n",
       "    <tr>\n",
       "      <th>count</th>\n",
       "      <td>2.000000e+01</td>\n",
       "      <td>20.0</td>\n",
       "      <td>20.0</td>\n",
       "      <td>20.0</td>\n",
       "      <td>20.0</td>\n",
       "      <td>20.0</td>\n",
       "      <td>20.0</td>\n",
       "      <td>20.000000</td>\n",
       "      <td>20.000000</td>\n",
       "      <td>20.000000</td>\n",
       "      <td>20.000000</td>\n",
       "    </tr>\n",
       "    <tr>\n",
       "      <th>mean</th>\n",
       "      <td>6.377157e-02</td>\n",
       "      <td>368.0</td>\n",
       "      <td>1.0</td>\n",
       "      <td>0.0</td>\n",
       "      <td>4.0</td>\n",
       "      <td>7.0</td>\n",
       "      <td>1.0</td>\n",
       "      <td>61.950000</td>\n",
       "      <td>2.015515</td>\n",
       "      <td>2.050833</td>\n",
       "      <td>0.650000</td>\n",
       "    </tr>\n",
       "    <tr>\n",
       "      <th>std</th>\n",
       "      <td>1.423831e-17</td>\n",
       "      <td>0.0</td>\n",
       "      <td>0.0</td>\n",
       "      <td>0.0</td>\n",
       "      <td>0.0</td>\n",
       "      <td>0.0</td>\n",
       "      <td>0.0</td>\n",
       "      <td>31.698373</td>\n",
       "      <td>0.699437</td>\n",
       "      <td>4.356069</td>\n",
       "      <td>1.182103</td>\n",
       "    </tr>\n",
       "    <tr>\n",
       "      <th>min</th>\n",
       "      <td>6.377157e-02</td>\n",
       "      <td>368.0</td>\n",
       "      <td>1.0</td>\n",
       "      <td>0.0</td>\n",
       "      <td>4.0</td>\n",
       "      <td>7.0</td>\n",
       "      <td>1.0</td>\n",
       "      <td>25.000000</td>\n",
       "      <td>0.000000</td>\n",
       "      <td>0.000000</td>\n",
       "      <td>0.000000</td>\n",
       "    </tr>\n",
       "    <tr>\n",
       "      <th>25%</th>\n",
       "      <td>6.377157e-02</td>\n",
       "      <td>368.0</td>\n",
       "      <td>1.0</td>\n",
       "      <td>0.0</td>\n",
       "      <td>4.0</td>\n",
       "      <td>7.0</td>\n",
       "      <td>1.0</td>\n",
       "      <td>48.250000</td>\n",
       "      <td>2.000000</td>\n",
       "      <td>0.000000</td>\n",
       "      <td>0.000000</td>\n",
       "    </tr>\n",
       "    <tr>\n",
       "      <th>50%</th>\n",
       "      <td>6.377157e-02</td>\n",
       "      <td>368.0</td>\n",
       "      <td>1.0</td>\n",
       "      <td>0.0</td>\n",
       "      <td>4.0</td>\n",
       "      <td>7.0</td>\n",
       "      <td>1.0</td>\n",
       "      <td>62.500000</td>\n",
       "      <td>2.000000</td>\n",
       "      <td>0.000000</td>\n",
       "      <td>0.000000</td>\n",
       "    </tr>\n",
       "    <tr>\n",
       "      <th>75%</th>\n",
       "      <td>6.377157e-02</td>\n",
       "      <td>368.0</td>\n",
       "      <td>1.0</td>\n",
       "      <td>0.0</td>\n",
       "      <td>4.0</td>\n",
       "      <td>7.0</td>\n",
       "      <td>1.0</td>\n",
       "      <td>66.250000</td>\n",
       "      <td>2.000000</td>\n",
       "      <td>1.054167</td>\n",
       "      <td>1.000000</td>\n",
       "    </tr>\n",
       "    <tr>\n",
       "      <th>max</th>\n",
       "      <td>6.377157e-02</td>\n",
       "      <td>368.0</td>\n",
       "      <td>1.0</td>\n",
       "      <td>0.0</td>\n",
       "      <td>4.0</td>\n",
       "      <td>7.0</td>\n",
       "      <td>1.0</td>\n",
       "      <td>178.000000</td>\n",
       "      <td>3.000000</td>\n",
       "      <td>15.316667</td>\n",
       "      <td>4.000000</td>\n",
       "    </tr>\n",
       "  </tbody>\n",
       "</table>\n",
       "</div>"
      ],
      "text/plain": [
       "       bat_landing_to_food  seconds_after_rat_arrival  risk  reward  month  \\\n",
       "count         2.000000e+01                       20.0  20.0    20.0   20.0   \n",
       "mean          6.377157e-02                      368.0   1.0     0.0    4.0   \n",
       "std           1.423831e-17                        0.0   0.0     0.0    0.0   \n",
       "min           6.377157e-02                      368.0   1.0     0.0    4.0   \n",
       "25%           6.377157e-02                      368.0   1.0     0.0    4.0   \n",
       "50%           6.377157e-02                      368.0   1.0     0.0    4.0   \n",
       "75%           6.377157e-02                      368.0   1.0     0.0    4.0   \n",
       "max           6.377157e-02                      368.0   1.0     0.0    4.0   \n",
       "\n",
       "       hours_after_sunset  season  bat_landing_number  food_availability  \\\n",
       "count                20.0    20.0           20.000000          20.000000   \n",
       "mean                  7.0     1.0           61.950000           2.015515   \n",
       "std                   0.0     0.0           31.698373           0.699437   \n",
       "min                   7.0     1.0           25.000000           0.000000   \n",
       "25%                   7.0     1.0           48.250000           2.000000   \n",
       "50%                   7.0     1.0           62.500000           2.000000   \n",
       "75%                   7.0     1.0           66.250000           2.000000   \n",
       "max                   7.0     1.0          178.000000           3.000000   \n",
       "\n",
       "       rat_minutes  rat_arrival_number  \n",
       "count    20.000000           20.000000  \n",
       "mean      2.050833            0.650000  \n",
       "std       4.356069            1.182103  \n",
       "min       0.000000            0.000000  \n",
       "25%       0.000000            0.000000  \n",
       "50%       0.000000            0.000000  \n",
       "75%       1.054167            1.000000  \n",
       "max      15.316667            4.000000  "
      ]
     },
     "execution_count": 112,
     "metadata": {},
     "output_type": "execute_result"
    }
   ],
   "source": [
    "#checking outliers\n",
    "merged.describe()\n"
   ]
  },
  {
   "cell_type": "code",
   "execution_count": null,
   "id": "64da160e",
   "metadata": {},
   "outputs": [],
   "source": []
  }
 ],
 "metadata": {
  "kernelspec": {
   "display_name": "hit140env",
   "language": "python",
   "name": "python3"
  },
  "language_info": {
   "codemirror_mode": {
    "name": "ipython",
    "version": 3
   },
   "file_extension": ".py",
   "mimetype": "text/x-python",
   "name": "python",
   "nbconvert_exporter": "python",
   "pygments_lexer": "ipython3",
   "version": "3.12.11"
  }
 },
 "nbformat": 4,
 "nbformat_minor": 5
}
