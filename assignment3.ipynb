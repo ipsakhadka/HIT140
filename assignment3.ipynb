{
 "cells": [
  {
   "cell_type": "code",
   "execution_count": 2,
   "id": "f8a86fb9",
   "metadata": {},
   "outputs": [],
   "source": [
    "#importing libraries\n",
    "import numpy as np\n",
    "import pandas as pd\n",
    "import seaborn as sns\n",
    "import matplotlib.pyplot as plt\n",
    "from scipy import stats\n"
   ]
  },
  {
   "cell_type": "code",
   "execution_count": null,
   "id": "22120ee0",
   "metadata": {},
   "outputs": [],
   "source": [
    "#importing datasets\n",
    "d1 =pd.read_csv(\"./dataset1.csv\")\n",
    "d1\n",
    "d2 = pd.read_csv(\"./dataset2.csv\")\n",
    "d2\n",
    "\n",
    "#d1 is dataset1 and d2 is dataset2"
   ]
  },
  {
   "cell_type": "code",
   "execution_count": null,
   "id": "368cb2ea",
   "metadata": {},
   "outputs": [],
   "source": [
    "#reading the dataset1, analyzing dtypes\n",
    "print (d1.shape)\n",
    "print (d1.head(5))\n",
    "print (d1.tail())\n",
    "print(d1.describe(include =\"float64\"))\n",
    "print(d1.describe(include =\"int64\"))\n",
    "print(d1.describe(include=\"object\"))\n",
    "\n"
   ]
  },
  {
   "cell_type": "markdown",
   "id": "ce6d5bcf",
   "metadata": {},
   "source": [
    "Investigation B \n",
    "Do the behaviours described above change following seasonal changes? \n",
    "It is known that in winter, alternative food sources are scarce and rat encounters are less frequent. In spring, food is more abundant and rat encounters are more common. To provide answers to both investigations, your team should decide the appropriate data science techniques to use for analysing the following datasets."
   ]
  },
  {
   "cell_type": "code",
   "execution_count": 6,
   "id": "690c5aec",
   "metadata": {},
   "outputs": [],
   "source": [
    "#We must see if bat–rat interactions or bat behaviours differ by season.\n",
    "#Bat behaviour (risk, reward, vigilance time)\n",
    "#Rat activity (rat arrivals, rat minutes)\n",
    "#Food availability and see if these vary noticeably between winter and spring."
   ]
  },
  {
   "cell_type": "code",
   "execution_count": 16,
   "id": "a7d7aa2c",
   "metadata": {},
   "outputs": [
    {
     "data": {
      "text/plain": [
       "season\n",
       "1    756\n",
       "0    151\n",
       "Name: count, dtype: int64"
      ]
     },
     "execution_count": 16,
     "metadata": {},
     "output_type": "execute_result"
    }
   ],
   "source": [
    "#counting values for season column in d1\n",
    "d1['season'].value_counts()"
   ]
  },
  {
   "cell_type": "code",
   "execution_count": 18,
   "id": "558c8bc1",
   "metadata": {},
   "outputs": [
    {
     "data": {
      "text/html": [
       "<div>\n",
       "<style scoped>\n",
       "    .dataframe tbody tr th:only-of-type {\n",
       "        vertical-align: middle;\n",
       "    }\n",
       "\n",
       "    .dataframe tbody tr th {\n",
       "        vertical-align: top;\n",
       "    }\n",
       "\n",
       "    .dataframe thead th {\n",
       "        text-align: right;\n",
       "    }\n",
       "</style>\n",
       "<table border=\"1\" class=\"dataframe\">\n",
       "  <thead>\n",
       "    <tr style=\"text-align: right;\">\n",
       "      <th></th>\n",
       "      <th>bat_landing_to_food</th>\n",
       "      <th>risk</th>\n",
       "      <th>reward</th>\n",
       "    </tr>\n",
       "    <tr>\n",
       "      <th>season</th>\n",
       "      <th></th>\n",
       "      <th></th>\n",
       "      <th></th>\n",
       "    </tr>\n",
       "  </thead>\n",
       "  <tbody>\n",
       "    <tr>\n",
       "      <th>0</th>\n",
       "      <td>6.039623</td>\n",
       "      <td>0.562914</td>\n",
       "      <td>0.364238</td>\n",
       "    </tr>\n",
       "    <tr>\n",
       "      <th>1</th>\n",
       "      <td>12.846335</td>\n",
       "      <td>0.481481</td>\n",
       "      <td>0.567460</td>\n",
       "    </tr>\n",
       "  </tbody>\n",
       "</table>\n",
       "</div>"
      ],
      "text/plain": [
       "        bat_landing_to_food      risk    reward\n",
       "season                                         \n",
       "0                  6.039623  0.562914  0.364238\n",
       "1                 12.846335  0.481481  0.567460"
      ]
     },
     "execution_count": 18,
     "metadata": {},
     "output_type": "execute_result"
    }
   ],
   "source": [
    "#grouping for seasonal statistical summary\n",
    "d1.groupby('season')[['bat_landing_to_food', 'risk', 'reward']].mean()"
   ]
  },
  {
   "cell_type": "code",
   "execution_count": 24,
   "id": "54a48930",
   "metadata": {},
   "outputs": [
    {
     "data": {
      "text/plain": [
       "start_time                   0\n",
       "bat_landing_to_food          0\n",
       "habit                        0\n",
       "rat_period_start             0\n",
       "rat_period_end               0\n",
       "seconds_after_rat_arrival    0\n",
       "risk                         0\n",
       "reward                       0\n",
       "month                        0\n",
       "sunset_time                  0\n",
       "hours_after_sunset           0\n",
       "season                       0\n",
       "dtype: int64"
      ]
     },
     "execution_count": 24,
     "metadata": {},
     "output_type": "execute_result"
    }
   ],
   "source": [
    "#data cleaning\n",
    "#finding missing values\n",
    "d1.isnull().sum()\n",
    "#let's fill missing values instead of dropping\n",
    "d1= d1.fillna({'habit':'NA'})\n",
    "#rechecking the missing values\n",
    "d1.isnull().sum()\n",
    "\n"
   ]
  },
  {
   "cell_type": "code",
   "execution_count": 27,
   "id": "93d0b0d1",
   "metadata": {},
   "outputs": [
    {
     "name": "stdout",
     "output_type": "stream",
     "text": [
      "1\n",
      "0\n"
     ]
    }
   ],
   "source": [
    "#checking for duplicates:\n",
    "dup1= print(d1.duplicated().sum())\n",
    "dup2= print(d2.duplicated().sum())"
   ]
  },
  {
   "cell_type": "code",
   "execution_count": 28,
   "id": "c753425b",
   "metadata": {},
   "outputs": [
    {
     "name": "stdout",
     "output_type": "stream",
     "text": [
      "0\n"
     ]
    }
   ],
   "source": [
    "# dropping the 1duplicate in dataset1\n",
    "d1 = d1.drop_duplicates(keep='last')\n",
    "\n",
    "#checking the update\n",
    "dup1= print(d1.duplicated().sum())"
   ]
  },
  {
   "cell_type": "code",
   "execution_count": 30,
   "id": "19276fce",
   "metadata": {},
   "outputs": [
    {
     "data": {
      "text/plain": [
       "time                  0\n",
       "month                 0\n",
       "hours_after_sunset    0\n",
       "bat_landing_number    0\n",
       "food_availability     0\n",
       "rat_minutes           0\n",
       "rat_arrival_number    0\n",
       "dtype: int64"
      ]
     },
     "execution_count": 30,
     "metadata": {},
     "output_type": "execute_result"
    }
   ],
   "source": [
    "#missing values of d2\n",
    "d2.isnull().sum()\n",
    "\n",
    "#output- 0 missing values\n"
   ]
  },
  {
   "cell_type": "code",
   "execution_count": 33,
   "id": "62bf5b11",
   "metadata": {},
   "outputs": [
    {
     "name": "stdout",
     "output_type": "stream",
     "text": [
      "        start_time  bat_landing_to_food habit rat_period_start  \\\n",
      "0  27/04/2018 2:17             0.063772   rat  27/04/2018 2:10   \n",
      "1  27/04/2018 2:17             0.063772   rat  27/04/2018 2:10   \n",
      "2  27/04/2018 2:17             0.063772   rat  27/04/2018 2:10   \n",
      "3  27/04/2018 2:17             0.063772   rat  27/04/2018 2:10   \n",
      "4  27/04/2018 2:17             0.063772   rat  27/04/2018 2:10   \n",
      "\n",
      "    rat_period_end  seconds_after_rat_arrival  risk  reward  month  \\\n",
      "0  27/04/2018 2:20                        368     1       0      4   \n",
      "1  27/04/2018 2:20                        368     1       0      4   \n",
      "2  27/04/2018 2:20                        368     1       0      4   \n",
      "3  27/04/2018 2:20                        368     1       0      4   \n",
      "4  27/04/2018 2:20                        368     1       0      4   \n",
      "\n",
      "        sunset_time  hours_after_sunset  season             time  \\\n",
      "0  26/04/2018 19:17                 7.0       1   3/04/2018 2:01   \n",
      "1  26/04/2018 19:17                 7.0       1   4/04/2018 2:01   \n",
      "2  26/04/2018 19:17                 7.0       1  10/04/2018 2:05   \n",
      "3  26/04/2018 19:17                 7.0       1  12/04/2018 2:07   \n",
      "4  26/04/2018 19:17                 7.0       1  14/04/2018 2:08   \n",
      "\n",
      "   bat_landing_number  food_availability  rat_minutes  rat_arrival_number  \n",
      "0                  49           1.001561          0.0                   0  \n",
      "1                  50           2.000000          0.0                   0  \n",
      "2                  64           1.833333          0.0                   0  \n",
      "3                  87           2.000000          0.0                   0  \n",
      "4                 178           2.000000          0.0                   0  \n"
     ]
    }
   ],
   "source": [
    "#data merging\n",
    "merged = pd.merge(d1, d2)  # merges on all columns that exist in both datasets by default\n",
    "\n",
    "# Save the merged dataset to a new CSV file\n",
    "merged.to_csv('merged_dataset.csv', index=False)\n",
    "\n",
    "#check first few rows\n",
    "print(merged.head())"
   ]
  },
  {
   "cell_type": "code",
   "execution_count": null,
   "id": "aab419e3",
   "metadata": {},
   "outputs": [
    {
     "data": {
      "text/plain": [
       "start_time                   0\n",
       "bat_landing_to_food          0\n",
       "habit                        0\n",
       "rat_period_start             0\n",
       "rat_period_end               0\n",
       "seconds_after_rat_arrival    0\n",
       "risk                         0\n",
       "reward                       0\n",
       "month                        0\n",
       "sunset_time                  0\n",
       "hours_after_sunset           0\n",
       "season                       0\n",
       "time                         0\n",
       "bat_landing_number           0\n",
       "food_availability            0\n",
       "rat_minutes                  0\n",
       "rat_arrival_number           0\n",
       "dtype: int64"
      ]
     },
     "execution_count": 35,
     "metadata": {},
     "output_type": "execute_result"
    }
   ],
   "source": [
    "#cleaning the new(merged) dataset\n",
    "#we'll work from this merged datset only\n",
    "\n",
    "merged.isnull().sum()\n",
    "\n",
    "#no null values"
   ]
  },
  {
   "cell_type": "code",
   "execution_count": 37,
   "id": "e38b228d",
   "metadata": {},
   "outputs": [
    {
     "data": {
      "text/plain": [
       "np.int64(0)"
      ]
     },
     "execution_count": 37,
     "metadata": {},
     "output_type": "execute_result"
    }
   ],
   "source": [
    "#checking for duplicates\n",
    "merged.duplicated().sum()\n",
    "\n",
    "#no duplicates either"
   ]
  },
  {
   "cell_type": "code",
   "execution_count": 39,
   "id": "5006d250",
   "metadata": {},
   "outputs": [
    {
     "data": {
      "text/html": [
       "<div>\n",
       "<style scoped>\n",
       "    .dataframe tbody tr th:only-of-type {\n",
       "        vertical-align: middle;\n",
       "    }\n",
       "\n",
       "    .dataframe tbody tr th {\n",
       "        vertical-align: top;\n",
       "    }\n",
       "\n",
       "    .dataframe thead th {\n",
       "        text-align: right;\n",
       "    }\n",
       "</style>\n",
       "<table border=\"1\" class=\"dataframe\">\n",
       "  <thead>\n",
       "    <tr style=\"text-align: right;\">\n",
       "      <th></th>\n",
       "      <th>bat_landing_to_food</th>\n",
       "      <th>seconds_after_rat_arrival</th>\n",
       "      <th>risk</th>\n",
       "      <th>reward</th>\n",
       "      <th>month</th>\n",
       "      <th>hours_after_sunset</th>\n",
       "      <th>season</th>\n",
       "      <th>bat_landing_number</th>\n",
       "      <th>food_availability</th>\n",
       "      <th>rat_minutes</th>\n",
       "      <th>rat_arrival_number</th>\n",
       "    </tr>\n",
       "  </thead>\n",
       "  <tbody>\n",
       "    <tr>\n",
       "      <th>count</th>\n",
       "      <td>2.000000e+01</td>\n",
       "      <td>20.0</td>\n",
       "      <td>20.0</td>\n",
       "      <td>20.0</td>\n",
       "      <td>20.0</td>\n",
       "      <td>20.0</td>\n",
       "      <td>20.0</td>\n",
       "      <td>20.000000</td>\n",
       "      <td>20.000000</td>\n",
       "      <td>20.000000</td>\n",
       "      <td>20.000000</td>\n",
       "    </tr>\n",
       "    <tr>\n",
       "      <th>mean</th>\n",
       "      <td>6.377157e-02</td>\n",
       "      <td>368.0</td>\n",
       "      <td>1.0</td>\n",
       "      <td>0.0</td>\n",
       "      <td>4.0</td>\n",
       "      <td>7.0</td>\n",
       "      <td>1.0</td>\n",
       "      <td>61.950000</td>\n",
       "      <td>2.015515</td>\n",
       "      <td>2.050833</td>\n",
       "      <td>0.650000</td>\n",
       "    </tr>\n",
       "    <tr>\n",
       "      <th>std</th>\n",
       "      <td>1.423831e-17</td>\n",
       "      <td>0.0</td>\n",
       "      <td>0.0</td>\n",
       "      <td>0.0</td>\n",
       "      <td>0.0</td>\n",
       "      <td>0.0</td>\n",
       "      <td>0.0</td>\n",
       "      <td>31.698373</td>\n",
       "      <td>0.699437</td>\n",
       "      <td>4.356069</td>\n",
       "      <td>1.182103</td>\n",
       "    </tr>\n",
       "    <tr>\n",
       "      <th>min</th>\n",
       "      <td>6.377157e-02</td>\n",
       "      <td>368.0</td>\n",
       "      <td>1.0</td>\n",
       "      <td>0.0</td>\n",
       "      <td>4.0</td>\n",
       "      <td>7.0</td>\n",
       "      <td>1.0</td>\n",
       "      <td>25.000000</td>\n",
       "      <td>0.000000</td>\n",
       "      <td>0.000000</td>\n",
       "      <td>0.000000</td>\n",
       "    </tr>\n",
       "    <tr>\n",
       "      <th>25%</th>\n",
       "      <td>6.377157e-02</td>\n",
       "      <td>368.0</td>\n",
       "      <td>1.0</td>\n",
       "      <td>0.0</td>\n",
       "      <td>4.0</td>\n",
       "      <td>7.0</td>\n",
       "      <td>1.0</td>\n",
       "      <td>48.250000</td>\n",
       "      <td>2.000000</td>\n",
       "      <td>0.000000</td>\n",
       "      <td>0.000000</td>\n",
       "    </tr>\n",
       "    <tr>\n",
       "      <th>50%</th>\n",
       "      <td>6.377157e-02</td>\n",
       "      <td>368.0</td>\n",
       "      <td>1.0</td>\n",
       "      <td>0.0</td>\n",
       "      <td>4.0</td>\n",
       "      <td>7.0</td>\n",
       "      <td>1.0</td>\n",
       "      <td>62.500000</td>\n",
       "      <td>2.000000</td>\n",
       "      <td>0.000000</td>\n",
       "      <td>0.000000</td>\n",
       "    </tr>\n",
       "    <tr>\n",
       "      <th>75%</th>\n",
       "      <td>6.377157e-02</td>\n",
       "      <td>368.0</td>\n",
       "      <td>1.0</td>\n",
       "      <td>0.0</td>\n",
       "      <td>4.0</td>\n",
       "      <td>7.0</td>\n",
       "      <td>1.0</td>\n",
       "      <td>66.250000</td>\n",
       "      <td>2.000000</td>\n",
       "      <td>1.054167</td>\n",
       "      <td>1.000000</td>\n",
       "    </tr>\n",
       "    <tr>\n",
       "      <th>max</th>\n",
       "      <td>6.377157e-02</td>\n",
       "      <td>368.0</td>\n",
       "      <td>1.0</td>\n",
       "      <td>0.0</td>\n",
       "      <td>4.0</td>\n",
       "      <td>7.0</td>\n",
       "      <td>1.0</td>\n",
       "      <td>178.000000</td>\n",
       "      <td>3.000000</td>\n",
       "      <td>15.316667</td>\n",
       "      <td>4.000000</td>\n",
       "    </tr>\n",
       "  </tbody>\n",
       "</table>\n",
       "</div>"
      ],
      "text/plain": [
       "       bat_landing_to_food  seconds_after_rat_arrival  risk  reward  month  \\\n",
       "count         2.000000e+01                       20.0  20.0    20.0   20.0   \n",
       "mean          6.377157e-02                      368.0   1.0     0.0    4.0   \n",
       "std           1.423831e-17                        0.0   0.0     0.0    0.0   \n",
       "min           6.377157e-02                      368.0   1.0     0.0    4.0   \n",
       "25%           6.377157e-02                      368.0   1.0     0.0    4.0   \n",
       "50%           6.377157e-02                      368.0   1.0     0.0    4.0   \n",
       "75%           6.377157e-02                      368.0   1.0     0.0    4.0   \n",
       "max           6.377157e-02                      368.0   1.0     0.0    4.0   \n",
       "\n",
       "       hours_after_sunset  season  bat_landing_number  food_availability  \\\n",
       "count                20.0    20.0           20.000000          20.000000   \n",
       "mean                  7.0     1.0           61.950000           2.015515   \n",
       "std                   0.0     0.0           31.698373           0.699437   \n",
       "min                   7.0     1.0           25.000000           0.000000   \n",
       "25%                   7.0     1.0           48.250000           2.000000   \n",
       "50%                   7.0     1.0           62.500000           2.000000   \n",
       "75%                   7.0     1.0           66.250000           2.000000   \n",
       "max                   7.0     1.0          178.000000           3.000000   \n",
       "\n",
       "       rat_minutes  rat_arrival_number  \n",
       "count    20.000000           20.000000  \n",
       "mean      2.050833            0.650000  \n",
       "std       4.356069            1.182103  \n",
       "min       0.000000            0.000000  \n",
       "25%       0.000000            0.000000  \n",
       "50%       0.000000            0.000000  \n",
       "75%       1.054167            1.000000  \n",
       "max      15.316667            4.000000  "
      ]
     },
     "execution_count": 39,
     "metadata": {},
     "output_type": "execute_result"
    }
   ],
   "source": [
    "#checking outliers\n",
    "merged.describe()\n"
   ]
  },
  {
   "cell_type": "code",
   "execution_count": 41,
   "id": "f95773e6",
   "metadata": {},
   "outputs": [
    {
     "data": {
      "image/png": "[encoded data removed]",
      "text/plain": [
       "<Figure size 600x400 with 1 Axes>"
      ]
     },
     "metadata": {},
     "output_type": "display_data"
    },
    {
     "data": {
      "image/png": "[encoded data removed]",
      "text/plain": [
       "<Figure size 600x400 with 1 Axes>"
      ]
     },
     "metadata": {},
     "output_type": "display_data"
    },
    {
     "data": {
      "image/png": "[encoded data removed]",
      "text/plain": [
       "<Figure size 600x400 with 1 Axes>"
      ]
     },
     "metadata": {},
     "output_type": "display_data"
    },
    {
     "data": {
      "image/png": "[encoded data removed]",
      "text/plain": [
       "<Figure size 600x400 with 1 Axes>"
      ]
     },
     "metadata": {},
     "output_type": "display_data"
    }
   ],
   "source": [
    "#IQR for outlier\n",
    "#List of numeric columns to check for outliers\n",
    "numeric_cols = ['bat_landing_to_food', 'bat_landing_number', 'rat_arrival_number', 'food_availability']\n",
    "\n",
    "# Plot before removing outliers\n",
    "for col in numeric_cols:\n",
    "    plt.figure(figsize=(6,4))\n",
    "    sns.boxplot(x=merged[col])\n",
    "    plt.title(f'Before cleaning - {col}')\n",
    "    plt.show()\n",
    "\n"
   ]
  },
  {
   "cell_type": "code",
   "execution_count": 43,
   "id": "218e864a",
   "metadata": {},
   "outputs": [],
   "source": [
    "# Remove outliers using IQR\n",
    "merged_clean = merged.copy()\n",
    "for col in numeric_cols:\n",
    "    Q1 = merged_clean[col].quantile(0.25)\n",
    "    Q3 = merged_clean[col].quantile(0.75)\n",
    "    IQR = Q3 - Q1\n",
    "    merged_clean = merged_clean[~((merged_clean[col] < (Q1 - 1.5 * IQR)) |\n",
    "                                  (merged_clean[col] > (Q3 + 1.5 * IQR)))]\n",
    "\n",
    "# Save cleaned dataset\n",
    "merged_clean.to_csv('merged_clean.csv', index=False)\n"
   ]
  },
  {
   "cell_type": "code",
   "execution_count": 45,
   "id": "e6538280",
   "metadata": {},
   "outputs": [
    {
     "data": {
      "image/png": "[encoded data removed]",
      "text/plain": [
       "<Figure size 600x400 with 1 Axes>"
      ]
     },
     "metadata": {},
     "output_type": "display_data"
    },
    {
     "data": {
      "image/png": "[encoded data removed]",
      "text/plain": [
       "<Figure size 600x400 with 1 Axes>"
      ]
     },
     "metadata": {},
     "output_type": "display_data"
    },
    {
     "data": {
      "image/png": "[encoded data removed]",
      "text/plain": [
       "<Figure size 600x400 with 1 Axes>"
      ]
     },
     "metadata": {},
     "output_type": "display_data"
    },
    {
     "data": {
      "image/png": "[encoded data removed]",
      "text/plain": [
       "<Figure size 600x400 with 1 Axes>"
      ]
     },
     "metadata": {},
     "output_type": "display_data"
    }
   ],
   "source": [
    "# Plot after removing outliers\n",
    "for col in numeric_cols:\n",
    "    plt.figure(figsize=(6,4))\n",
    "    sns.boxplot(x=merged_clean[col])\n",
    "    plt.title(f'After cleaning - {col}')\n",
    "    plt.show()"
   ]
  },
  {
   "cell_type": "code",
   "execution_count": 46,
   "id": "9a775a8d",
   "metadata": {},
   "outputs": [
    {
     "name": "stdout",
     "output_type": "stream",
     "text": [
      "Original shape: (20, 17)\n",
      "Cleaned shape: (11, 17)\n"
     ]
    }
   ],
   "source": [
    "# comparing the before after\n",
    "print(\"Original shape:\", merged.shape)\n",
    "print(\"Cleaned shape:\", merged_clean.shape)"
   ]
  }
 ],
 "metadata": {
  "kernelspec": {
   "display_name": "hit140env",
   "language": "python",
   "name": "python3"
  },
  "language_info": {
   "codemirror_mode": {
    "name": "ipython",
    "version": 3
   },
   "file_extension": ".py",
   "mimetype": "text/x-python",
   "name": "python",
   "nbconvert_exporter": "python",
   "pygments_lexer": "ipython3",
   "version": "3.12.11"
  }
 },
 "nbformat": 4,
 "nbformat_minor": 5
}
