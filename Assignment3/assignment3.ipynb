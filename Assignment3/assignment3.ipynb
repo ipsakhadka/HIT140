{
 "cells": [
  {
   "cell_type": "code",
   "execution_count": 201,
   "id": "f8a86fb9",
   "metadata": {},
   "outputs": [],
   "source": [
    "#importing libraries\n",
    "import numpy as np\n",
    "import pandas as pd\n",
    "import seaborn as sns\n",
    "import matplotlib.pyplot as plt\n",
    "from scipy import stats\n",
    "import re\n",
    "from scipy.stats import ttest_ind\n",
    "from scipy.stats import mannwhitneyu\n",
    "from sklearn.preprocessing import StandardScaler\n",
    "from sklearn.model_selection import train_test_split\n",
    "from sklearn.linear_model import LinearRegression\n",
    "from sklearn.metrics import mean_squared_error, r2_score"
   ]
  },
  {
   "cell_type": "code",
   "execution_count": 202,
   "id": "22120ee0",
   "metadata": {},
   "outputs": [
    {
     "data": {
      "text/html": [
       "<div>\n",
       "<style scoped>\n",
       "    .dataframe tbody tr th:only-of-type {\n",
       "        vertical-align: middle;\n",
       "    }\n",
       "\n",
       "    .dataframe tbody tr th {\n",
       "        vertical-align: top;\n",
       "    }\n",
       "\n",
       "    .dataframe thead th {\n",
       "        text-align: right;\n",
       "    }\n",
       "</style>\n",
       "<table border=\"1\" class=\"dataframe\">\n",
       "  <thead>\n",
       "    <tr style=\"text-align: right;\">\n",
       "      <th></th>\n",
       "      <th>time</th>\n",
       "      <th>month</th>\n",
       "      <th>hours_after_sunset</th>\n",
       "      <th>bat_landing_number</th>\n",
       "      <th>food_availability</th>\n",
       "      <th>rat_minutes</th>\n",
       "      <th>rat_arrival_number</th>\n",
       "    </tr>\n",
       "  </thead>\n",
       "  <tbody>\n",
       "    <tr>\n",
       "      <th>0</th>\n",
       "      <td>26/12/2017 16:13</td>\n",
       "      <td>0</td>\n",
       "      <td>-0.5</td>\n",
       "      <td>20</td>\n",
       "      <td>4.000000</td>\n",
       "      <td>0.0</td>\n",
       "      <td>0</td>\n",
       "    </tr>\n",
       "    <tr>\n",
       "      <th>1</th>\n",
       "      <td>26/12/2017 16:43</td>\n",
       "      <td>0</td>\n",
       "      <td>0.0</td>\n",
       "      <td>28</td>\n",
       "      <td>4.000000</td>\n",
       "      <td>0.0</td>\n",
       "      <td>0</td>\n",
       "    </tr>\n",
       "    <tr>\n",
       "      <th>2</th>\n",
       "      <td>26/12/2017 17:13</td>\n",
       "      <td>0</td>\n",
       "      <td>0.5</td>\n",
       "      <td>25</td>\n",
       "      <td>4.000000</td>\n",
       "      <td>0.0</td>\n",
       "      <td>0</td>\n",
       "    </tr>\n",
       "    <tr>\n",
       "      <th>3</th>\n",
       "      <td>26/12/2017 17:43</td>\n",
       "      <td>0</td>\n",
       "      <td>1.0</td>\n",
       "      <td>71</td>\n",
       "      <td>4.000000</td>\n",
       "      <td>0.0</td>\n",
       "      <td>0</td>\n",
       "    </tr>\n",
       "    <tr>\n",
       "      <th>4</th>\n",
       "      <td>26/12/2017 18:13</td>\n",
       "      <td>0</td>\n",
       "      <td>1.5</td>\n",
       "      <td>44</td>\n",
       "      <td>3.753857</td>\n",
       "      <td>0.0</td>\n",
       "      <td>0</td>\n",
       "    </tr>\n",
       "    <tr>\n",
       "      <th>...</th>\n",
       "      <td>...</td>\n",
       "      <td>...</td>\n",
       "      <td>...</td>\n",
       "      <td>...</td>\n",
       "      <td>...</td>\n",
       "      <td>...</td>\n",
       "      <td>...</td>\n",
       "    </tr>\n",
       "    <tr>\n",
       "      <th>2118</th>\n",
       "      <td>1/06/2018 3:41</td>\n",
       "      <td>6</td>\n",
       "      <td>8.0</td>\n",
       "      <td>20</td>\n",
       "      <td>1.000000</td>\n",
       "      <td>0.0</td>\n",
       "      <td>0</td>\n",
       "    </tr>\n",
       "    <tr>\n",
       "      <th>2119</th>\n",
       "      <td>1/06/2018 4:11</td>\n",
       "      <td>6</td>\n",
       "      <td>8.5</td>\n",
       "      <td>7</td>\n",
       "      <td>1.000000</td>\n",
       "      <td>0.0</td>\n",
       "      <td>0</td>\n",
       "    </tr>\n",
       "    <tr>\n",
       "      <th>2120</th>\n",
       "      <td>1/06/2018 4:41</td>\n",
       "      <td>6</td>\n",
       "      <td>9.0</td>\n",
       "      <td>6</td>\n",
       "      <td>1.000000</td>\n",
       "      <td>0.0</td>\n",
       "      <td>0</td>\n",
       "    </tr>\n",
       "    <tr>\n",
       "      <th>2121</th>\n",
       "      <td>1/06/2018 5:11</td>\n",
       "      <td>6</td>\n",
       "      <td>9.5</td>\n",
       "      <td>7</td>\n",
       "      <td>1.000000</td>\n",
       "      <td>0.0</td>\n",
       "      <td>0</td>\n",
       "    </tr>\n",
       "    <tr>\n",
       "      <th>2122</th>\n",
       "      <td>1/06/2018 5:41</td>\n",
       "      <td>6</td>\n",
       "      <td>10.0</td>\n",
       "      <td>2</td>\n",
       "      <td>1.000000</td>\n",
       "      <td>0.0</td>\n",
       "      <td>0</td>\n",
       "    </tr>\n",
       "  </tbody>\n",
       "</table>\n",
       "<p>2123 rows × 7 columns</p>\n",
       "</div>"
      ],
      "text/plain": [
       "                  time  month  hours_after_sunset  bat_landing_number  \\\n",
       "0     26/12/2017 16:13      0                -0.5                  20   \n",
       "1     26/12/2017 16:43      0                 0.0                  28   \n",
       "2     26/12/2017 17:13      0                 0.5                  25   \n",
       "3     26/12/2017 17:43      0                 1.0                  71   \n",
       "4     26/12/2017 18:13      0                 1.5                  44   \n",
       "...                ...    ...                 ...                 ...   \n",
       "2118    1/06/2018 3:41      6                 8.0                  20   \n",
       "2119    1/06/2018 4:11      6                 8.5                   7   \n",
       "2120    1/06/2018 4:41      6                 9.0                   6   \n",
       "2121    1/06/2018 5:11      6                 9.5                   7   \n",
       "2122    1/06/2018 5:41      6                10.0                   2   \n",
       "\n",
       "      food_availability  rat_minutes  rat_arrival_number  \n",
       "0              4.000000          0.0                   0  \n",
       "1              4.000000          0.0                   0  \n",
       "2              4.000000          0.0                   0  \n",
       "3              4.000000          0.0                   0  \n",
       "4              3.753857          0.0                   0  \n",
       "...                 ...          ...                 ...  \n",
       "2118           1.000000          0.0                   0  \n",
       "2119           1.000000          0.0                   0  \n",
       "2120           1.000000          0.0                   0  \n",
       "2121           1.000000          0.0                   0  \n",
       "2122           1.000000          0.0                   0  \n",
       "\n",
       "[2123 rows x 7 columns]"
      ]
     },
     "execution_count": 202,
     "metadata": {},
     "output_type": "execute_result"
    }
   ],
   "source": [
    "#importing datasets\n",
    "d1 =pd.read_csv(\"./dataset1.csv\")\n",
    "d1\n",
    "d2 = pd.read_csv(\"./dataset2.csv\")\n",
    "d2\n",
    "\n",
    "#d1 is dataset1 and d2 is dataset2"
   ]
  },
  {
   "cell_type": "code",
   "execution_count": 203,
   "id": "368cb2ea",
   "metadata": {},
   "outputs": [
    {
     "name": "stdout",
     "output_type": "stream",
     "text": [
      "(907, 12)\n",
      "         start_time  bat_landing_to_food habit  rat_period_start  \\\n",
      "0  30/12/2017 18:37            16.000000   rat  30/12/2017 18:35   \n",
      "1  30/12/2017 19:51             0.074016  fast  30/12/2017 19:50   \n",
      "2  30/12/2017 19:51             4.000000  fast  30/12/2017 19:50   \n",
      "3  30/12/2017 19:52            10.000000   rat  30/12/2017 19:50   \n",
      "4  30/12/2017 19:54            15.000000   rat  30/12/2017 19:50   \n",
      "\n",
      "     rat_period_end  seconds_after_rat_arrival  risk  reward  month  \\\n",
      "0  30/12/2017 18:38                        108     1       0      0   \n",
      "1  30/12/2017 19:55                         17     0       1      0   \n",
      "2  30/12/2017 19:55                         41     0       1      0   \n",
      "3  30/12/2017 19:55                        111     1       0      0   \n",
      "4  30/12/2017 19:55                        194     1       0      0   \n",
      "\n",
      "        sunset_time  hours_after_sunset  season  \n",
      "0  30/12/2017 16:45            1.870833       0  \n",
      "1  30/12/2017 16:45            3.100833       0  \n",
      "2  30/12/2017 16:45            3.107500       0  \n",
      "3  30/12/2017 16:45            3.126944       0  \n",
      "4  30/12/2017 16:45            3.150000       0  \n",
      "          start_time  bat_landing_to_food     habit rat_period_start  \\\n",
      "902   4/05/2018 4:18                  2.0       rat   4/05/2018 4:14   \n",
      "903   4/05/2018 4:18                  1.0      fast   4/05/2018 4:14   \n",
      "904   4/05/2018 4:19                 22.0      pick   4/05/2018 4:14   \n",
      "905  3/05/2018 23:51                  2.0      fast  3/05/2018 23:46   \n",
      "906   4/05/2018 5:39                120.0  pick_rat   4/05/2018 5:37   \n",
      "\n",
      "      rat_period_end  seconds_after_rat_arrival  risk  reward  month  \\\n",
      "902   4/05/2018 4:30                        224     1       0      5   \n",
      "903   4/05/2018 4:30                        275     0       1      5   \n",
      "904   4/05/2018 4:30                        310     0       1      5   \n",
      "905  3/05/2018 23:52                        339     0       1      5   \n",
      "906   4/05/2018 6:10                        143     1       1      5   \n",
      "\n",
      "         sunset_time  hours_after_sunset  season  \n",
      "902  3/05/2018 19:22            8.933333       1  \n",
      "903  3/05/2018 19:22            8.947500       1  \n",
      "904  3/05/2018 19:22            8.957222       1  \n",
      "905  3/05/2018 19:22            4.498889       1  \n",
      "906  3/05/2018 19:22           10.297500       1  \n",
      "       bat_landing_to_food  hours_after_sunset\n",
      "count           907.000000          907.000000\n",
      "mean             11.713134            5.531863\n",
      "std              27.644410            2.414146\n",
      "min               0.010238           -0.261667\n",
      "25%               1.000000            3.779028\n",
      "50%               4.000000            5.622778\n",
      "75%              11.500000            7.402778\n",
      "max             443.000000           12.091944\n",
      "       seconds_after_rat_arrival        risk      reward       month  \\\n",
      "count                 907.000000  907.000000  907.000000  907.000000   \n",
      "mean                  282.877619    0.495039    0.533627    3.800441   \n",
      "std                   240.974918    0.500251    0.499143    1.199190   \n",
      "min                     0.000000    0.000000    0.000000    0.000000   \n",
      "25%                    89.500000    0.000000    0.000000    4.000000   \n",
      "50%                   206.000000    0.000000    1.000000    4.000000   \n",
      "75%                   446.500000    1.000000    1.000000    5.000000   \n",
      "max                   949.000000    1.000000    1.000000    5.000000   \n",
      "\n",
      "           season  \n",
      "count  907.000000  \n",
      "mean     0.833517  \n",
      "std      0.372719  \n",
      "min      0.000000  \n",
      "25%      1.000000  \n",
      "50%      1.000000  \n",
      "75%      1.000000  \n",
      "max      1.000000  \n",
      "             start_time habit  rat_period_start    rat_period_end  \\\n",
      "count               907   866               907               907   \n",
      "unique              628    81               268               268   \n",
      "top     21/04/2018 2:17  fast  26/04/2018 22:25  26/04/2018 22:36   \n",
      "freq                  6   245                29                29   \n",
      "\n",
      "             sunset_time  \n",
      "count                907  \n",
      "unique                65  \n",
      "top     26/04/2018 19:17  \n",
      "freq                 101  \n"
     ]
    }
   ],
   "source": [
    "#reading the dataset1, analyzing dtypes\n",
    "print (d1.shape)\n",
    "print (d1.head(5))\n",
    "print (d1.tail())\n",
    "print(d1.describe(include =\"float64\"))\n",
    "print(d1.describe(include =\"int64\"))\n",
    "print(d1.describe(include=\"object\"))\n",
    "\n"
   ]
  },
  {
   "cell_type": "markdown",
   "id": "ce6d5bcf",
   "metadata": {},
   "source": [
    "Investigation B \n",
    "Do the behaviours described above change following seasonal changes? \n",
    "It is known that in winter, alternative food sources are scarce and rat encounters are less frequent. In spring, food is more abundant and rat encounters are more common. To provide answers to both investigations, your team should decide the appropriate data science techniques to use for analysing the following datasets."
   ]
  },
  {
   "cell_type": "code",
   "execution_count": 204,
   "id": "690c5aec",
   "metadata": {},
   "outputs": [],
   "source": [
    "#We must see if bat–rat interactions or bat behaviours differ by season.\n",
    "#Bat behaviour (risk, reward, vigilance time)\n",
    "#Rat activity (rat arrivals, rat minutes)\n",
    "#Food availability and see if these vary noticeably between winter and spring."
   ]
  },
  {
   "cell_type": "code",
   "execution_count": 205,
   "id": "a7d7aa2c",
   "metadata": {},
   "outputs": [
    {
     "data": {
      "text/plain": [
       "season\n",
       "1    756\n",
       "0    151\n",
       "Name: count, dtype: int64"
      ]
     },
     "execution_count": 205,
     "metadata": {},
     "output_type": "execute_result"
    }
   ],
   "source": [
    "#counting values for season column in d1\n",
    "d1['season'].value_counts()"
   ]
  },
  {
   "cell_type": "code",
   "execution_count": 206,
   "id": "558c8bc1",
   "metadata": {},
   "outputs": [
    {
     "data": {
      "text/html": [
       "<div>\n",
       "<style scoped>\n",
       "    .dataframe tbody tr th:only-of-type {\n",
       "        vertical-align: middle;\n",
       "    }\n",
       "\n",
       "    .dataframe tbody tr th {\n",
       "        vertical-align: top;\n",
       "    }\n",
       "\n",
       "    .dataframe thead th {\n",
       "        text-align: right;\n",
       "    }\n",
       "</style>\n",
       "<table border=\"1\" class=\"dataframe\">\n",
       "  <thead>\n",
       "    <tr style=\"text-align: right;\">\n",
       "      <th></th>\n",
       "      <th>bat_landing_to_food</th>\n",
       "      <th>risk</th>\n",
       "      <th>reward</th>\n",
       "    </tr>\n",
       "    <tr>\n",
       "      <th>season</th>\n",
       "      <th></th>\n",
       "      <th></th>\n",
       "      <th></th>\n",
       "    </tr>\n",
       "  </thead>\n",
       "  <tbody>\n",
       "    <tr>\n",
       "      <th>0</th>\n",
       "      <td>6.039623</td>\n",
       "      <td>0.562914</td>\n",
       "      <td>0.364238</td>\n",
       "    </tr>\n",
       "    <tr>\n",
       "      <th>1</th>\n",
       "      <td>12.846335</td>\n",
       "      <td>0.481481</td>\n",
       "      <td>0.567460</td>\n",
       "    </tr>\n",
       "  </tbody>\n",
       "</table>\n",
       "</div>"
      ],
      "text/plain": [
       "        bat_landing_to_food      risk    reward\n",
       "season                                         \n",
       "0                  6.039623  0.562914  0.364238\n",
       "1                 12.846335  0.481481  0.567460"
      ]
     },
     "execution_count": 206,
     "metadata": {},
     "output_type": "execute_result"
    }
   ],
   "source": [
    "#grouping for seasonal statistical summary\n",
    "d1.groupby('season')[['bat_landing_to_food', 'risk', 'reward']].mean()"
   ]
  },
  {
   "cell_type": "code",
   "execution_count": 207,
   "id": "54a48930",
   "metadata": {},
   "outputs": [
    {
     "data": {
      "text/plain": [
       "start_time                   0\n",
       "bat_landing_to_food          0\n",
       "habit                        0\n",
       "rat_period_start             0\n",
       "rat_period_end               0\n",
       "seconds_after_rat_arrival    0\n",
       "risk                         0\n",
       "reward                       0\n",
       "month                        0\n",
       "sunset_time                  0\n",
       "hours_after_sunset           0\n",
       "season                       0\n",
       "dtype: int64"
      ]
     },
     "execution_count": 207,
     "metadata": {},
     "output_type": "execute_result"
    }
   ],
   "source": [
    "#data cleaning\n",
    "#finding missing values\n",
    "d1.isnull().sum()\n",
    "#let's fill missing values instead of dropping\n",
    "d1= d1.fillna({'habit':'NA'})\n",
    "#rechecking the missing values\n",
    "d1.isnull().sum()\n",
    "\n"
   ]
  },
  {
   "cell_type": "code",
   "execution_count": 208,
   "id": "93d0b0d1",
   "metadata": {},
   "outputs": [
    {
     "name": "stdout",
     "output_type": "stream",
     "text": [
      "1\n",
      "0\n"
     ]
    }
   ],
   "source": [
    "#checking for duplicates:\n",
    "dup1= print(d1.duplicated().sum())\n",
    "dup2= print(d2.duplicated().sum())"
   ]
  },
  {
   "cell_type": "code",
   "execution_count": 209,
   "id": "c753425b",
   "metadata": {},
   "outputs": [
    {
     "name": "stdout",
     "output_type": "stream",
     "text": [
      "0\n"
     ]
    }
   ],
   "source": [
    "# dropping the 1duplicate in dataset1\n",
    "d1 = d1.drop_duplicates(keep='last')\n",
    "\n",
    "#checking the update\n",
    "dup1= print(d1.duplicated().sum())"
   ]
  },
  {
   "cell_type": "code",
   "execution_count": 210,
   "id": "19276fce",
   "metadata": {},
   "outputs": [
    {
     "data": {
      "text/plain": [
       "time                  0\n",
       "month                 0\n",
       "hours_after_sunset    0\n",
       "bat_landing_number    0\n",
       "food_availability     0\n",
       "rat_minutes           0\n",
       "rat_arrival_number    0\n",
       "dtype: int64"
      ]
     },
     "execution_count": 210,
     "metadata": {},
     "output_type": "execute_result"
    }
   ],
   "source": [
    "#missing values of d2\n",
    "d2.isnull().sum()\n",
    "\n",
    "#output- 0 missing values\n"
   ]
  },
  {
   "cell_type": "code",
   "execution_count": 211,
   "id": "3da566f9",
   "metadata": {},
   "outputs": [
    {
     "data": {
      "text/html": [
       "<div>\n",
       "<style scoped>\n",
       "    .dataframe tbody tr th:only-of-type {\n",
       "        vertical-align: middle;\n",
       "    }\n",
       "\n",
       "    .dataframe tbody tr th {\n",
       "        vertical-align: top;\n",
       "    }\n",
       "\n",
       "    .dataframe thead th {\n",
       "        text-align: right;\n",
       "    }\n",
       "</style>\n",
       "<table border=\"1\" class=\"dataframe\">\n",
       "  <thead>\n",
       "    <tr style=\"text-align: right;\">\n",
       "      <th></th>\n",
       "      <th>time</th>\n",
       "      <th>month</th>\n",
       "      <th>hours_after_sunset</th>\n",
       "      <th>bat_landing_number</th>\n",
       "      <th>food_availability</th>\n",
       "      <th>rat_minutes</th>\n",
       "      <th>rat_arrival_number</th>\n",
       "    </tr>\n",
       "  </thead>\n",
       "  <tbody>\n",
       "    <tr>\n",
       "      <th>0</th>\n",
       "      <td>26/12/2017 16:13</td>\n",
       "      <td>0</td>\n",
       "      <td>-0.5</td>\n",
       "      <td>20</td>\n",
       "      <td>4.000000</td>\n",
       "      <td>0.0</td>\n",
       "      <td>0</td>\n",
       "    </tr>\n",
       "    <tr>\n",
       "      <th>1</th>\n",
       "      <td>26/12/2017 16:43</td>\n",
       "      <td>0</td>\n",
       "      <td>0.0</td>\n",
       "      <td>28</td>\n",
       "      <td>4.000000</td>\n",
       "      <td>0.0</td>\n",
       "      <td>0</td>\n",
       "    </tr>\n",
       "    <tr>\n",
       "      <th>2</th>\n",
       "      <td>26/12/2017 17:13</td>\n",
       "      <td>0</td>\n",
       "      <td>0.5</td>\n",
       "      <td>25</td>\n",
       "      <td>4.000000</td>\n",
       "      <td>0.0</td>\n",
       "      <td>0</td>\n",
       "    </tr>\n",
       "    <tr>\n",
       "      <th>3</th>\n",
       "      <td>26/12/2017 17:43</td>\n",
       "      <td>0</td>\n",
       "      <td>1.0</td>\n",
       "      <td>71</td>\n",
       "      <td>4.000000</td>\n",
       "      <td>0.0</td>\n",
       "      <td>0</td>\n",
       "    </tr>\n",
       "    <tr>\n",
       "      <th>4</th>\n",
       "      <td>26/12/2017 18:13</td>\n",
       "      <td>0</td>\n",
       "      <td>1.5</td>\n",
       "      <td>44</td>\n",
       "      <td>3.753857</td>\n",
       "      <td>0.0</td>\n",
       "      <td>0</td>\n",
       "    </tr>\n",
       "    <tr>\n",
       "      <th>...</th>\n",
       "      <td>...</td>\n",
       "      <td>...</td>\n",
       "      <td>...</td>\n",
       "      <td>...</td>\n",
       "      <td>...</td>\n",
       "      <td>...</td>\n",
       "      <td>...</td>\n",
       "    </tr>\n",
       "    <tr>\n",
       "      <th>2118</th>\n",
       "      <td>1/06/2018 3:41</td>\n",
       "      <td>6</td>\n",
       "      <td>8.0</td>\n",
       "      <td>20</td>\n",
       "      <td>1.000000</td>\n",
       "      <td>0.0</td>\n",
       "      <td>0</td>\n",
       "    </tr>\n",
       "    <tr>\n",
       "      <th>2119</th>\n",
       "      <td>1/06/2018 4:11</td>\n",
       "      <td>6</td>\n",
       "      <td>8.5</td>\n",
       "      <td>7</td>\n",
       "      <td>1.000000</td>\n",
       "      <td>0.0</td>\n",
       "      <td>0</td>\n",
       "    </tr>\n",
       "    <tr>\n",
       "      <th>2120</th>\n",
       "      <td>1/06/2018 4:41</td>\n",
       "      <td>6</td>\n",
       "      <td>9.0</td>\n",
       "      <td>6</td>\n",
       "      <td>1.000000</td>\n",
       "      <td>0.0</td>\n",
       "      <td>0</td>\n",
       "    </tr>\n",
       "    <tr>\n",
       "      <th>2121</th>\n",
       "      <td>1/06/2018 5:11</td>\n",
       "      <td>6</td>\n",
       "      <td>9.5</td>\n",
       "      <td>7</td>\n",
       "      <td>1.000000</td>\n",
       "      <td>0.0</td>\n",
       "      <td>0</td>\n",
       "    </tr>\n",
       "    <tr>\n",
       "      <th>2122</th>\n",
       "      <td>1/06/2018 5:41</td>\n",
       "      <td>6</td>\n",
       "      <td>10.0</td>\n",
       "      <td>2</td>\n",
       "      <td>1.000000</td>\n",
       "      <td>0.0</td>\n",
       "      <td>0</td>\n",
       "    </tr>\n",
       "  </tbody>\n",
       "</table>\n",
       "<p>2123 rows × 7 columns</p>\n",
       "</div>"
      ],
      "text/plain": [
       "                  time  month  hours_after_sunset  bat_landing_number  \\\n",
       "0     26/12/2017 16:13      0                -0.5                  20   \n",
       "1     26/12/2017 16:43      0                 0.0                  28   \n",
       "2     26/12/2017 17:13      0                 0.5                  25   \n",
       "3     26/12/2017 17:43      0                 1.0                  71   \n",
       "4     26/12/2017 18:13      0                 1.5                  44   \n",
       "...                ...    ...                 ...                 ...   \n",
       "2118    1/06/2018 3:41      6                 8.0                  20   \n",
       "2119    1/06/2018 4:11      6                 8.5                   7   \n",
       "2120    1/06/2018 4:41      6                 9.0                   6   \n",
       "2121    1/06/2018 5:11      6                 9.5                   7   \n",
       "2122    1/06/2018 5:41      6                10.0                   2   \n",
       "\n",
       "      food_availability  rat_minutes  rat_arrival_number  \n",
       "0              4.000000          0.0                   0  \n",
       "1              4.000000          0.0                   0  \n",
       "2              4.000000          0.0                   0  \n",
       "3              4.000000          0.0                   0  \n",
       "4              3.753857          0.0                   0  \n",
       "...                 ...          ...                 ...  \n",
       "2118           1.000000          0.0                   0  \n",
       "2119           1.000000          0.0                   0  \n",
       "2120           1.000000          0.0                   0  \n",
       "2121           1.000000          0.0                   0  \n",
       "2122           1.000000          0.0                   0  \n",
       "\n",
       "[2123 rows x 7 columns]"
      ]
     },
     "execution_count": 211,
     "metadata": {},
     "output_type": "execute_result"
    }
   ],
   "source": [
    "#importing cleaned/processed dataset from Assignment 2 \n",
    "d1_clean =pd.read_csv(\"./d1_clean.csv\")\n",
    "d1\n",
    "d2_clean = pd.read_csv(\"./d2_clean.csv\")\n",
    "d2\n"
   ]
  },
  {
   "cell_type": "code",
   "execution_count": 212,
   "id": "e82228fe",
   "metadata": {},
   "outputs": [],
   "source": [
    "#inner merging\n",
    "merged1 = pd.merge(d1, d2)\n",
    "\n",
    "# Save the merged dataset to a new CSV file\n",
    "merged1.to_csv('in_merged_dataset.csv', index=False)\n"
   ]
  },
  {
   "cell_type": "code",
   "execution_count": 213,
   "id": "eaffd5d3",
   "metadata": {},
   "outputs": [
    {
     "name": "stdout",
     "output_type": "stream",
     "text": [
      "Inner merge shape (number of rows, columns): (20, 17)\n",
      "Unique months in inner merge: [4]\n",
      "Counts per month in inner merge:\n",
      "month\n",
      "4    20\n",
      "Name: count, dtype: int64\n"
     ]
    }
   ],
   "source": [
    "#inner merge data analysis\n",
    "print(\"Inner merge shape (number of rows, columns):\", merged1.shape)\n",
    "# Unique months in inner merge\n",
    "print(\"Unique months in inner merge:\", merged1['month'].unique())\n",
    "print(\"Counts per month in inner merge:\")\n",
    "print(merged1['month'].value_counts())\n",
    "\n"
   ]
  },
  {
   "cell_type": "code",
   "execution_count": 214,
   "id": "62bf5b11",
   "metadata": {},
   "outputs": [
    {
     "name": "stdout",
     "output_type": "stream",
     "text": [
      "  start_time  bat_landing_to_food habit rat_period_start rat_period_end  \\\n",
      "0        NaN                  NaN   NaN              NaN            NaN   \n",
      "1        NaN                  NaN   NaN              NaN            NaN   \n",
      "2        NaN                  NaN   NaN              NaN            NaN   \n",
      "3        NaN                  NaN   NaN              NaN            NaN   \n",
      "4        NaN                  NaN   NaN              NaN            NaN   \n",
      "\n",
      "   seconds_after_rat_arrival  risk  reward  month sunset_time  \\\n",
      "0                        NaN   NaN     NaN      0         NaN   \n",
      "1                        NaN   NaN     NaN      0         NaN   \n",
      "2                        NaN   NaN     NaN      0         NaN   \n",
      "3                        NaN   NaN     NaN      0         NaN   \n",
      "4                        NaN   NaN     NaN      0         NaN   \n",
      "\n",
      "   hours_after_sunset  season              time  bat_landing_number  \\\n",
      "0                -2.0     NaN  29/12/2017 14:45                 7.0   \n",
      "1                -2.0     NaN  30/12/2017 14:45                10.0   \n",
      "2                -1.5     NaN  29/12/2017 15:15                 1.0   \n",
      "3                -1.5     NaN  30/12/2017 15:15                14.0   \n",
      "4                -1.0     NaN  29/12/2017 15:45                 1.0   \n",
      "\n",
      "   food_availability  rat_minutes  rat_arrival_number  \n",
      "0                4.0          0.0                 0.0  \n",
      "1                0.0          0.0                 0.0  \n",
      "2                4.0          0.0                 0.0  \n",
      "3                0.0          0.0                 0.0  \n",
      "4                4.0          0.0                 0.0  \n"
     ]
    }
   ],
   "source": [
    "#data merging\n",
    "merged2 = pd.merge(d1, d2, how='outer') # outer because tried using the defult inner which deleted everything except the 20 row that overlapped\n",
    "\n",
    "# Save the merged dataset to a new CSV file\n",
    "merged2.to_csv('out_merged_dataset.csv', index=False)\n",
    "\n",
    "#check first few rows\n",
    "print(merged2.head())"
   ]
  },
  {
   "cell_type": "code",
   "execution_count": 215,
   "id": "da30fb6e",
   "metadata": {},
   "outputs": [
    {
     "name": "stdout",
     "output_type": "stream",
     "text": [
      "Unique months: [0 1 2 3 4 5 6]\n",
      "Shape of merged dataset: (3028, 17)\n"
     ]
    }
   ],
   "source": [
    "# Check that all months are now present\n",
    "print(\"Unique months:\", merged2['month'].unique())\n",
    "print(\"Shape of merged dataset:\", merged2.shape)\n"
   ]
  },
  {
   "cell_type": "code",
   "execution_count": 216,
   "id": "aab419e3",
   "metadata": {},
   "outputs": [
    {
     "data": {
      "text/plain": [
       "start_time                   2103\n",
       "bat_landing_to_food          2103\n",
       "habit                        2103\n",
       "rat_period_start             2103\n",
       "rat_period_end               2103\n",
       "seconds_after_rat_arrival    2103\n",
       "risk                         2103\n",
       "reward                       2103\n",
       "month                           0\n",
       "sunset_time                  2103\n",
       "hours_after_sunset              0\n",
       "season                       2103\n",
       "time                          905\n",
       "bat_landing_number            905\n",
       "food_availability             905\n",
       "rat_minutes                   905\n",
       "rat_arrival_number            905\n",
       "dtype: int64"
      ]
     },
     "execution_count": 216,
     "metadata": {},
     "output_type": "execute_result"
    }
   ],
   "source": [
    "#cleaning the new(merged) dataset\n",
    "\n",
    "merged2.isnull().sum()\n",
    "\n",
    "#no null values"
   ]
  },
  {
   "cell_type": "code",
   "execution_count": 217,
   "id": "64da160e",
   "metadata": {},
   "outputs": [
    {
     "name": "stdout",
     "output_type": "stream",
     "text": [
      "Summary statistics for Dataset 1 (d1_clean):\n",
      "             risk      reward      season       month  bat_landing_to_food  \\\n",
      "count  818.000000  818.000000  818.000000  818.000000           818.000000   \n",
      "mean     0.463325    0.536675    0.820293    3.740831             5.695370   \n",
      "std      0.498958    0.498958    0.384178    1.222522             6.483649   \n",
      "min      0.000000    0.000000    0.000000    0.000000             0.010238   \n",
      "25%      0.000000    0.000000    1.000000    4.000000             1.000000   \n",
      "50%      0.000000    1.000000    1.000000    4.000000             3.000000   \n",
      "75%      1.000000    1.000000    1.000000    4.000000             8.000000   \n",
      "max      1.000000    1.000000    1.000000    5.000000            27.000000   \n",
      "\n",
      "       seconds_after_rat_arrival  \n",
      "count                 818.000000  \n",
      "mean                  280.419315  \n",
      "std                   240.268580  \n",
      "min                     0.000000  \n",
      "25%                    87.250000  \n",
      "50%                   205.000000  \n",
      "75%                   442.250000  \n",
      "max                   949.000000  \n",
      "\n",
      "Summary statistics for Dataset 2 (d2_clean):\n",
      "       bat_landing_number  food_availability  rat_minutes  rat_arrival_number  \\\n",
      "count         1555.000000        1555.000000       1555.0              1555.0   \n",
      "mean            32.292605           2.499045          0.0                 0.0   \n",
      "std             24.183712           1.266952          0.0                 0.0   \n",
      "min              1.000000           0.000000          0.0                 0.0   \n",
      "25%             11.000000           1.926137          0.0                 0.0   \n",
      "50%             29.000000           3.000000          0.0                 0.0   \n",
      "75%             49.000000           3.636035          0.0                 0.0   \n",
      "max            102.000000           4.000000          0.0                 0.0   \n",
      "\n",
      "             month  hours_after_sunset  \n",
      "count  1555.000000         1555.000000  \n",
      "mean      2.843730            4.988746  \n",
      "std       1.662871            4.192984  \n",
      "min       0.000000           -2.000000  \n",
      "25%       1.000000            1.500000  \n",
      "50%       3.000000            5.000000  \n",
      "75%       4.000000            8.500000  \n",
      "max       6.000000           13.500000  \n"
     ]
    }
   ],
   "source": [
    "#EDA\n",
    "#resuning cleaned Dataset from assignment 2 \n",
    "# Statistical summary for key columns in d1_clean\n",
    "print(\"Summary statistics for Dataset 1 (d1_clean):\")\n",
    "cols_d1_clean = ['risk', 'reward', 'season', 'month', 'bat_landing_to_food', 'seconds_after_rat_arrival']\n",
    "print(d1_clean[cols_d1_clean].describe(include='all'))\n",
    "\n",
    "# Statistical summary for key columns in d2\n",
    "print(\"\\nSummary statistics for Dataset 2 (d2_clean):\")\n",
    "cols_d2_clean = ['bat_landing_number', 'food_availability', 'rat_minutes', 'rat_arrival_number', 'month', 'hours_after_sunset']\n",
    "print(d2_clean[cols_d2_clean].describe(include='all'))\n",
    "\n",
    "\n"
   ]
  },
  {
   "cell_type": "code",
   "execution_count": 218,
   "id": "77fea693",
   "metadata": {},
   "outputs": [
    {
     "name": "stdout",
     "output_type": "stream",
     "text": [
      "['rat', 'fast', 'pick', 'bat_fight', 'rat_and_no_food', ..., 'rat_bat', 'pick_rat_and_bat', 'bat_fight_and_rat', 'not_sure_rat', 'rat_and_bat_and_pick']\n",
      "Length: 50\n",
      "Categories (50, object): ['attack_rat', 'bat', 'bat_and_pick', 'bat_and_pick_far', ..., 'rat_disappear', 'rat_pick', 'rat_pick_and_bat', 'rat_to_bat']\n",
      "habit\n",
      "fast                    245\n",
      "rat                     205\n",
      "pick                    127\n",
      "bat                      26\n",
      "bat_fight                22\n",
      "bat_and_pick             17\n",
      "bat_and_rat              14\n",
      "rat_and_bat              12\n",
      "rat_pick                  8\n",
      "bats                      7\n",
      "pick_and_others           6\n",
      "pick_and_bat              6\n",
      "other_bats                6\n",
      "pick_bat                  5\n",
      "others                    5\n",
      "pick_and_rat              5\n",
      "no_food                   4\n",
      "pick_rat                  3\n",
      "rat_and_pick              3\n",
      "bat_pick                  2\n",
      "fight                     2\n",
      "pick_and_all              2\n",
      "rat_and_bat_and_pick      1\n",
      "rat_pick_and_bat          1\n",
      "rat_disappear             1\n",
      "rat_bat                   1\n",
      "pick_bat_rat              1\n",
      "rat_attack                1\n",
      "rat_and_no_food           1\n",
      "pick_rat_and_bat          1\n",
      "Name: count, dtype: int64\n"
     ]
    }
   ],
   "source": [
    "#processing and preparing Habit Column\n",
    "# Keep only string entries and remove 'NA'\n",
    "# Keep only valid habit strings: letters + underscores, no digits or commas\n",
    "d1_clean = d1_clean[d1_clean['habit'].apply(lambda x: isinstance(x, str) \n",
    "                          and x.upper() != 'NA' \n",
    "                          and bool(re.fullmatch(r'[A-Za-z_]+', x)))]\n",
    "\n",
    "\n",
    "# Convert to categorical (optional, recommended)\n",
    "d1_clean['habit'] = d1_clean['habit'].astype('category')\n",
    "\n",
    "# Check the cleaned habit values\n",
    "print(d1_clean['habit'].unique())\n",
    "print(d1_clean['habit'].value_counts().head(30))\n",
    "\n"
   ]
  },
  {
   "cell_type": "code",
   "execution_count": 219,
   "id": "ffc9dc3e",
   "metadata": {},
   "outputs": [
    {
     "name": "stdout",
     "output_type": "stream",
     "text": [
      "['rat', 'fast', 'pick', 'bat_fight', 'rat_and_no_food', ..., 'rat_bat', 'pick_rat_and_bat', 'bat_fight_and_rat', 'not_sure_rat', 'rat_and_bat_and_pick']\n",
      "Length: 50\n",
      "Categories (50, object): ['attack_rat', 'bat', 'bat_and_pick', 'bat_and_pick_far', ..., 'rat_disappear', 'rat_pick', 'rat_pick_and_bat', 'rat_to_bat']\n",
      "            start_time  bat_landing_to_food habit     rat_period_start  \\\n",
      "0  2017-12-30 18:37:00            16.000000   rat  2017-12-30 18:35:00   \n",
      "1  2017-12-30 19:51:00             0.074016  fast  2017-12-30 19:50:00   \n",
      "2  2017-12-30 19:51:00             4.000000  fast  2017-12-30 19:50:00   \n",
      "3  2017-12-30 19:52:00            10.000000   rat  2017-12-30 19:50:00   \n",
      "4  2017-12-30 19:54:00            15.000000   rat  2017-12-30 19:50:00   \n",
      "\n",
      "        rat_period_end  seconds_after_rat_arrival  risk  reward  month  \\\n",
      "0  2017-12-30 18:38:00                        108     1       0      0   \n",
      "1  2017-12-30 19:55:00                         17     0       1      0   \n",
      "2  2017-12-30 19:55:00                         41     0       1      0   \n",
      "3  2017-12-30 19:55:00                        111     1       0      0   \n",
      "4  2017-12-30 19:55:00                        194     1       0      0   \n",
      "\n",
      "        sunset_time  ...  habit_rat_and_bat_and_pick  habit_rat_and_no_food  \\\n",
      "0  30/12/2017 16:45  ...                       False                  False   \n",
      "1  30/12/2017 16:45  ...                       False                  False   \n",
      "2  30/12/2017 16:45  ...                       False                  False   \n",
      "3  30/12/2017 16:45  ...                       False                  False   \n",
      "4  30/12/2017 16:45  ...                       False                  False   \n",
      "\n",
      "  habit_rat_and_others  habit_rat_and_pick  habit_rat_attack  habit_rat_bat  \\\n",
      "0                False               False             False          False   \n",
      "1                False               False             False          False   \n",
      "2                False               False             False          False   \n",
      "3                False               False             False          False   \n",
      "4                False               False             False          False   \n",
      "\n",
      "   habit_rat_disappear  habit_rat_pick  habit_rat_pick_and_bat  \\\n",
      "0                False           False                   False   \n",
      "1                False           False                   False   \n",
      "2                False           False                   False   \n",
      "3                False           False                   False   \n",
      "4                False           False                   False   \n",
      "\n",
      "   habit_rat_to_bat  \n",
      "0             False  \n",
      "1             False  \n",
      "2             False  \n",
      "3             False  \n",
      "4             False  \n",
      "\n",
      "[5 rows x 63 columns]\n"
     ]
    }
   ],
   "source": [
    "\n",
    "# Convert to category \n",
    "d1_clean['habit'] = d1_clean['habit'].astype('category')\n",
    "\n",
    "# Create dummy variables\n",
    "habit_dummies = pd.get_dummies(d1_clean['habit'], prefix='habit')\n",
    "d1_clean = pd.concat([d1_clean, habit_dummies], axis=1)\n",
    "\n",
    "# Check the cleaned dataset\n",
    "print(d1_clean['habit'].unique())\n",
    "print(d1_clean.head())"
   ]
  },
  {
   "cell_type": "code",
   "execution_count": 220,
   "id": "a69c4aae",
   "metadata": {},
   "outputs": [
    {
     "data": {
      "image/png": "[encoded data removed]",
      "text/plain": [
       "<Figure size 1200x600 with 1 Axes>"
      ]
     },
     "metadata": {},
     "output_type": "display_data"
    }
   ],
   "source": [
    "#plotting overall frequencies\n",
    "# Sort by count for better visualization\n",
    "habit_counts = d1['habit'].value_counts().sort_values(ascending=False).head(25)\n",
    "\n",
    "habit_counts.plot(kind='bar', color='skyblue', edgecolor='black', figsize=(12,6))\n",
    "plt.title('Overall Habit Frequencies')\n",
    "plt.xlabel('Habit')\n",
    "plt.ylabel('Count')\n",
    "plt.xticks(rotation=45)\n",
    "plt.show()"
   ]
  },
  {
   "cell_type": "code",
   "execution_count": 229,
   "id": "43976b67",
   "metadata": {},
   "outputs": [
    {
     "ename": "NameError",
     "evalue": "name 'habit_season_counts' is not defined",
     "output_type": "error",
     "traceback": [
      "\u001b[31m---------------------------------------------------------------------------\u001b[39m",
      "\u001b[31mNameError\u001b[39m                                 Traceback (most recent call last)",
      "\u001b[36mCell\u001b[39m\u001b[36m \u001b[39m\u001b[32mIn[229]\u001b[39m\u001b[32m, line 11\u001b[39m\n\u001b[32m      3\u001b[39m selected_habits = [\n\u001b[32m      4\u001b[39m     \u001b[33m'\u001b[39m\u001b[33mfast\u001b[39m\u001b[33m'\u001b[39m, \u001b[33m'\u001b[39m\u001b[33mrat\u001b[39m\u001b[33m'\u001b[39m, \u001b[33m'\u001b[39m\u001b[33mpick\u001b[39m\u001b[33m'\u001b[39m, \u001b[33m'\u001b[39m\u001b[33mbat\u001b[39m\u001b[33m'\u001b[39m, \u001b[33m'\u001b[39m\u001b[33mbat_fight\u001b[39m\u001b[33m'\u001b[39m, \u001b[33m'\u001b[39m\u001b[33mbat_and_pick\u001b[39m\u001b[33m'\u001b[39m, \u001b[33m'\u001b[39m\u001b[33mbat_and_rat\u001b[39m\u001b[33m'\u001b[39m,\n\u001b[32m      5\u001b[39m     \u001b[33m'\u001b[39m\u001b[33mrat_and_bat\u001b[39m\u001b[33m'\u001b[39m, \u001b[33m'\u001b[39m\u001b[33mrat_pick\u001b[39m\u001b[33m'\u001b[39m, \u001b[33m'\u001b[39m\u001b[33mpick_and_bat\u001b[39m\u001b[33m'\u001b[39m, \u001b[33m'\u001b[39m\u001b[33mpick_and_others\u001b[39m\u001b[33m'\u001b[39m, \u001b[33m'\u001b[39m\u001b[33mrat_and_pick\u001b[39m\u001b[33m'\u001b[39m,\n\u001b[32m      6\u001b[39m     \u001b[33m'\u001b[39m\u001b[33mother_bats\u001b[39m\u001b[33m'\u001b[39m, \u001b[33m'\u001b[39m\u001b[33mbats\u001b[39m\u001b[33m'\u001b[39m, \u001b[33m'\u001b[39m\u001b[33mpick_and_rat\u001b[39m\u001b[33m'\u001b[39m, \u001b[33m'\u001b[39m\u001b[33mpick_bat\u001b[39m\u001b[33m'\u001b[39m, \u001b[33m'\u001b[39m\u001b[33mothers\u001b[39m\u001b[33m'\u001b[39m, \u001b[33m'\u001b[39m\u001b[33mall_pick\u001b[39m\u001b[33m'\u001b[39m, \n\u001b[32m      7\u001b[39m     \u001b[33m'\u001b[39m\u001b[33mno_food\u001b[39m\u001b[33m'\u001b[39m, \u001b[33m'\u001b[39m\u001b[33mpick_rat\u001b[39m\u001b[33m'\u001b[39m, \u001b[33m'\u001b[39m\u001b[33mboth\u001b[39m\u001b[33m'\u001b[39m\n\u001b[32m      8\u001b[39m ]\n\u001b[32m     10\u001b[39m \u001b[38;5;66;03m# Filter the dataframe\u001b[39;00m\n\u001b[32m---> \u001b[39m\u001b[32m11\u001b[39m habit_season_counts_filtered = habit_season_counts[habit_season_counts[\u001b[33m'\u001b[39m\u001b[33mhabit\u001b[39m\u001b[33m'\u001b[39m].isin(selected_habits)]\n\u001b[32m     13\u001b[39m \u001b[38;5;66;03m# Ensure 'habit' column follows the specific order\u001b[39;00m\n\u001b[32m     14\u001b[39m habit_season_counts_filtered[\u001b[33m'\u001b[39m\u001b[33mhabit\u001b[39m\u001b[33m'\u001b[39m] = pd.Categorical(\n\u001b[32m     15\u001b[39m     habit_season_counts_filtered[\u001b[33m'\u001b[39m\u001b[33mhabit\u001b[39m\u001b[33m'\u001b[39m],\n\u001b[32m     16\u001b[39m     categories=selected_habits,\n\u001b[32m     17\u001b[39m     ordered=\u001b[38;5;28;01mTrue\u001b[39;00m\n\u001b[32m     18\u001b[39m )\n",
      "\u001b[31mNameError\u001b[39m: name 'habit_season_counts' is not defined"
     ]
    }
   ],
   "source": [
    "# List of specific habits to show on x-axis\n",
    "# List of specific habits in the order you want them\n",
    "selected_habits = [\n",
    "    'fast', 'rat', 'pick', 'bat', 'bat_fight', 'bat_and_pick', 'bat_and_rat',\n",
    "    'rat_and_bat', 'rat_pick', 'pick_and_bat', 'pick_and_others', 'rat_and_pick',\n",
    "    'other_bats', 'bats', 'pick_and_rat', 'pick_bat', 'others', 'all_pick', \n",
    "    'no_food', 'pick_rat', 'both'\n",
    "]\n",
    "\n",
    "# Filter the dataframe\n",
    "habit_season_counts_filtered = habit_season_counts[habit_season_counts['habit'].isin(selected_habits)]\n",
    "\n",
    "# Ensure 'habit' column follows the specific order\n",
    "habit_season_counts_filtered['habit'] = pd.Categorical(\n",
    "    habit_season_counts_filtered['habit'],\n",
    "    categories=selected_habits,\n",
    "    ordered=True\n",
    ")\n",
    "\n",
    "# Plot grouped bar chart\n",
    "plt.figure(figsize=(14,6))\n",
    "sns.barplot(x='habit', y='count', hue='season_label', data=habit_season_counts_filtered)\n",
    "plt.title('Selected Habit Frequencies by Season')\n",
    "plt.xlabel('Habit')\n",
    "plt.ylabel('Count')\n",
    "plt.xticks(rotation=45)\n",
    "plt.legend(title='Season')\n",
    "plt.show()\n",
    "\n"
   ]
  },
  {
   "cell_type": "code",
   "execution_count": null,
   "id": "da22bdb1",
   "metadata": {},
   "outputs": [
    {
     "name": "stdout",
     "output_type": "stream",
     "text": [
      "   season season_label\n",
      "0       0       Winter\n",
      "1       0       Winter\n",
      "2       0       Winter\n",
      "3       0       Winter\n",
      "4       0       Winter\n"
     ]
    }
   ],
   "source": [
    "#since season is in 0 & 1 categorizing 0 as winter and 1 as Spring\n",
    "# Map numeric season to labels in the cleaned dataset\n",
    "d1_clean['season_label'] = d1_clean['season'].map({0: 'Winter', 1: 'Spring'})\n",
    "\n",
    "# Quick check\n",
    "print(d1_clean[['season', 'season_label']].head())\n"
   ]
  },
  {
   "cell_type": "code",
   "execution_count": null,
   "id": "3a993ba0",
   "metadata": {},
   "outputs": [
    {
     "name": "stdout",
     "output_type": "stream",
     "text": [
      "[0 1]\n",
      "season\n",
      "1    671\n",
      "0    147\n",
      "Name: count, dtype: int64\n"
     ]
    },
    {
     "data": {
      "image/png": "[encoded data removed]",
      "text/plain": [
       "<Figure size 600x400 with 1 Axes>"
      ]
     },
     "metadata": {},
     "output_type": "display_data"
    }
   ],
   "source": [
    "# Unique values in the 'season' column\n",
    "print(d1_clean['season'].unique())\n",
    "print(d1_clean['season'].value_counts())\n",
    "\n",
    "# Count rows per season\n",
    "season_counts = d1_clean['season'].value_counts().sort_index()  # ensures 0,1 order\n",
    "\n",
    "# Map numbers to labels for the x-axis\n",
    "season_labels = {0: 'Winter', 1: 'Spring'}\n",
    "season_counts.index = season_counts.index.map(season_labels)\n",
    "\n",
    "# Plot bar chart\n",
    "plt.figure(figsize=(6,4))\n",
    "season_counts.plot(kind='bar', color=['skyblue', 'lightgreen'], edgecolor='black')\n",
    "plt.title('Number of Observations per Season')\n",
    "plt.xlabel('Season')\n",
    "plt.ylabel('Count')\n",
    "plt.xticks(rotation=0)\n",
    "plt.show()\n",
    "\n",
    "#this is just showing observation during winter vs spring, no comparision with anything\n"
   ]
  },
  {
   "cell_type": "code",
   "execution_count": null,
   "id": "d31db4e4",
   "metadata": {},
   "outputs": [
    {
     "name": "stdout",
     "output_type": "stream",
     "text": [
      "   risk  behavior\n",
      "0     1      Bold\n",
      "1     0  Cautious\n",
      "2     0  Cautious\n",
      "3     1      Bold\n",
      "4     1      Bold\n",
      "   risk  reward    behavior_category\n",
      "0     1       0       Bold-LowReward\n",
      "1     0       1  Cautious-HighReward\n",
      "2     0       1  Cautious-HighReward\n",
      "3     1       0       Bold-LowReward\n",
      "4     1       0       Bold-LowReward\n"
     ]
    }
   ],
   "source": [
    "#feature engineering, risk and reward to find boldness\n",
    "# Map risk to behavior\n",
    "d1_clean['behavior'] = d1_clean['risk'].map({0: 'Cautious', 1: 'Bold'})\n",
    "\n",
    "print(d1_clean[['risk', 'behavior']].head())\n",
    "\n",
    "def behavior_category(row):\n",
    "    if row['risk'] == 1 and row['reward'] == 1:\n",
    "        return 'Bold-HighReward'\n",
    "    elif row['risk'] == 1 and row['reward'] == 0:\n",
    "        return 'Bold-LowReward'\n",
    "    elif row['risk'] == 0 and row['reward'] == 1:\n",
    "        return 'Cautious-HighReward'\n",
    "    else:\n",
    "        return 'Cautious-LowReward'\n",
    "\n",
    "# Apply to your cleaned dataset\n",
    "d1_clean['behavior_category'] = d1_clean.apply(behavior_category, axis=1)\n",
    "\n",
    "# Quick check\n",
    "print(d1_clean[['risk','reward','behavior_category']].head())\n",
    "\n"
   ]
  },
  {
   "cell_type": "code",
   "execution_count": null,
   "id": "2b8ed766",
   "metadata": {},
   "outputs": [],
   "source": []
  },
  {
   "cell_type": "code",
   "execution_count": null,
   "id": "a010e806",
   "metadata": {},
   "outputs": [],
   "source": []
  },
  {
   "cell_type": "code",
   "execution_count": null,
   "id": "0c35af54",
   "metadata": {},
   "outputs": [
    {
     "data": {
      "image/png": "[encoded data removed]",
      "text/plain": [
       "<Figure size 1000x600 with 1 Axes>"
      ]
     },
     "metadata": {},
     "output_type": "display_data"
    }
   ],
   "source": [
    "# Map season numbers to labels\n",
    "season_map = {0: 'Winter', 1: 'Spring'}\n",
    "d1_clean['season_label'] = d1_clean['season'].map(season_map)\n",
    "\n",
    "# Count behaviors per season\n",
    "behavior_counts = d1_clean.groupby(['season_label', 'behavior_category']).size().reset_index(name='count')\n",
    "\n",
    "# Plot grouped bar chart\n",
    "plt.figure(figsize=(10,6))\n",
    "sns.barplot(x='behavior_category', y='count', hue='season_label', data=behavior_counts)\n",
    "plt.title('Behavior Categories by Season')\n",
    "plt.xlabel('Behavior Category')\n",
    "plt.ylabel('Count')\n",
    "plt.xticks(rotation=45)\n",
    "plt.legend(title='Season')\n",
    "plt.show()"
   ]
  },
  {
   "cell_type": "code",
   "execution_count": null,
   "id": "a6dc4970",
   "metadata": {},
   "outputs": [
    {
     "data": {
      "text/html": [
       "<div>\n",
       "<style scoped>\n",
       "    .dataframe tbody tr th:only-of-type {\n",
       "        vertical-align: middle;\n",
       "    }\n",
       "\n",
       "    .dataframe tbody tr th {\n",
       "        vertical-align: top;\n",
       "    }\n",
       "\n",
       "    .dataframe thead th {\n",
       "        text-align: right;\n",
       "    }\n",
       "</style>\n",
       "<table border=\"1\" class=\"dataframe\">\n",
       "  <thead>\n",
       "    <tr style=\"text-align: right;\">\n",
       "      <th></th>\n",
       "      <th>count</th>\n",
       "      <th>mean</th>\n",
       "      <th>std</th>\n",
       "      <th>min</th>\n",
       "      <th>25%</th>\n",
       "      <th>50%</th>\n",
       "      <th>75%</th>\n",
       "      <th>max</th>\n",
       "    </tr>\n",
       "    <tr>\n",
       "      <th>risk</th>\n",
       "      <th></th>\n",
       "      <th></th>\n",
       "      <th></th>\n",
       "      <th></th>\n",
       "      <th></th>\n",
       "      <th></th>\n",
       "      <th></th>\n",
       "      <th></th>\n",
       "    </tr>\n",
       "  </thead>\n",
       "  <tbody>\n",
       "    <tr>\n",
       "      <th>0</th>\n",
       "      <td>384.0</td>\n",
       "      <td>267.726562</td>\n",
       "      <td>232.356091</td>\n",
       "      <td>0.0</td>\n",
       "      <td>86.5</td>\n",
       "      <td>191.5</td>\n",
       "      <td>389.75</td>\n",
       "      <td>939.0</td>\n",
       "    </tr>\n",
       "    <tr>\n",
       "      <th>1</th>\n",
       "      <td>376.0</td>\n",
       "      <td>284.715426</td>\n",
       "      <td>238.515132</td>\n",
       "      <td>0.0</td>\n",
       "      <td>88.0</td>\n",
       "      <td>207.5</td>\n",
       "      <td>453.50</td>\n",
       "      <td>949.0</td>\n",
       "    </tr>\n",
       "  </tbody>\n",
       "</table>\n",
       "</div>"
      ],
      "text/plain": [
       "      count        mean         std  min   25%    50%     75%    max\n",
       "risk                                                                \n",
       "0     384.0  267.726562  232.356091  0.0  86.5  191.5  389.75  939.0\n",
       "1     376.0  284.715426  238.515132  0.0  88.0  207.5  453.50  949.0"
      ]
     },
     "execution_count": 153,
     "metadata": {},
     "output_type": "execute_result"
    }
   ],
   "source": [
    "# to see if the risky behaviour happens sooner or after the rat's arrival\n",
    "d1_clean.groupby('risk')['seconds_after_rat_arrival'].describe()\n"
   ]
  },
  {
   "cell_type": "code",
   "execution_count": null,
   "id": "1e4b461e",
   "metadata": {},
   "outputs": [
    {
     "data": {
      "image/png": "[encoded data removed]",
      "text/plain": [
       "<Figure size 800x600 with 1 Axes>"
      ]
     },
     "metadata": {},
     "output_type": "display_data"
    }
   ],
   "source": [
    "#plotting\n",
    "plt.figure(figsize=(8,6))\n",
    "sns.boxplot(x='risk', y='seconds_after_rat_arrival', data=d1_clean)\n",
    "plt.xticks([0,1], ['Cautious', 'Bold'])\n",
    "plt.title('Seconds After Rat Arrival by Risk')\n",
    "plt.ylabel('Seconds After Rat Arrival')\n",
    "plt.xlabel('Risk')\n",
    "plt.show()\n"
   ]
  },
  {
   "cell_type": "code",
   "execution_count": null,
   "id": "37d6f89e",
   "metadata": {},
   "outputs": [],
   "source": [
    "#categorizing timing comparing seconds_after_rat_arrival vs risk\n",
    "def behavior_category(row):\n",
    "    if row['risk'] == 1 and row['seconds_after_rat_arrival'] <= 60:\n",
    "        return 'Bold_Immediate'\n",
    "    elif row['risk'] == 1:\n",
    "        return 'Bold_Delayed'\n",
    "    elif row['risk'] == 0 and row['seconds_after_rat_arrival'] <= 60:\n",
    "        return 'Cautious_Immediate'\n",
    "    else:\n",
    "        return 'Cautious_Delayed'\n",
    "\n",
    "d1_clean['behavior_timing'] = d1_clean.apply(behavior_category, axis=1)\n"
   ]
  },
  {
   "cell_type": "code",
   "execution_count": null,
   "id": "49b23c0b",
   "metadata": {},
   "outputs": [
    {
     "data": {
      "image/png": "[encoded data removed]",
      "text/plain": [
       "<Figure size 800x600 with 1 Axes>"
      ]
     },
     "metadata": {},
     "output_type": "display_data"
    }
   ],
   "source": [
    "plt.figure(figsize=(8,6))\n",
    "sns.countplot(x='behavior_timing', data=d1_clean, order=[\n",
    "    'Bold_Immediate','Bold_Delayed','Cautious_Immediate','Cautious_Delayed'])\n",
    "plt.xticks(rotation=45)\n",
    "plt.title('Behavior Timing Categories')\n",
    "plt.ylabel('Count')\n",
    "plt.show()\n"
   ]
  },
  {
   "cell_type": "code",
   "execution_count": null,
   "id": "04398529",
   "metadata": {},
   "outputs": [
    {
     "data": {
      "image/png": "[encoded data removed]",
      "text/plain": [
       "<Figure size 1000x600 with 1 Axes>"
      ]
     },
     "metadata": {},
     "output_type": "display_data"
    }
   ],
   "source": [
    "#comparing with season\n",
    "# Group by season and behavior_timing\n",
    "behavior_season_counts = d1_clean.groupby(['season', 'behavior_timing']).size().reset_index(name='count')\n",
    "\n",
    "# Map season numbers to labels\n",
    "season_map = {0: 'Winter', 1: 'Spring'}\n",
    "behavior_season_counts['season_label'] = behavior_season_counts['season'].map(season_map)\n",
    "\n",
    "# Plot\n",
    "plt.figure(figsize=(10,6))\n",
    "sns.barplot(x='behavior_timing', y='count', hue='season_label', data=behavior_season_counts,\n",
    "            order=['Bold_Immediate','Bold_Delayed','Cautious_Immediate','Cautious_Delayed'])\n",
    "plt.title('Behavior Timing by Season')\n",
    "plt.ylabel('Count')\n",
    "plt.xlabel('Behavior Timing')\n",
    "plt.xticks(rotation=45)\n",
    "plt.legend(title='Season')\n",
    "plt.show()\n"
   ]
  },
  {
   "cell_type": "code",
   "execution_count": null,
   "id": "adc4ff85",
   "metadata": {},
   "outputs": [
    {
     "name": "stdout",
     "output_type": "stream",
     "text": [
      "Unique season codes in d1_clean: [0 1]\n",
      "Unique months in d1_clean: [0 1 2 3 4 5]\n",
      "\n",
      "Counts per season:\n",
      "season\n",
      "1    625\n",
      "0    135\n",
      "Name: count, dtype: int64\n",
      "\n",
      "Counts per month:\n",
      "month\n",
      "4    426\n",
      "5    175\n",
      "2     81\n",
      "1     31\n",
      "3     24\n",
      "0     23\n",
      "Name: count, dtype: int64\n"
     ]
    }
   ],
   "source": [
    "#food availability per season\n",
    "#using d2 for this and grouping the months to season for this dataset\n",
    "\n",
    "\n",
    "# Assuming Jan-Mar = Winter, Apr-Jun = Spring\n",
    "# Check unique values in 'season' and 'month'\n",
    "print(\"Unique season codes in d1_clean:\", d1_clean['season'].unique())\n",
    "print(\"Unique months in d1_clean:\", d1_clean['month'].unique())\n",
    "\n",
    "# Count rows per season\n",
    "print(\"\\nCounts per season:\")\n",
    "print(d1_clean['season'].value_counts())\n",
    "\n",
    "# Count rows per month\n",
    "print(\"\\nCounts per month:\")\n",
    "print(d1_clean['month'].value_counts())\n"
   ]
  },
  {
   "cell_type": "code",
   "execution_count": null,
   "id": "cac1e7a7",
   "metadata": {},
   "outputs": [
    {
     "name": "stdout",
     "output_type": "stream",
     "text": [
      "season_label\n",
      "Spring    798\n",
      "Winter    745\n",
      "Name: count, dtype: int64\n"
     ]
    },
    {
     "data": {
      "image/png": "[encoded data removed]",
      "text/plain": [
       "<Figure size 800x600 with 1 Axes>"
      ]
     },
     "metadata": {},
     "output_type": "display_data"
    }
   ],
   "source": [
    "#based on the output above, we'll assume 0 month is winter and consider it to be december\n",
    "#likewise 1 is January, 2 is February... \n",
    "\n",
    "# Map month codes to season labels in d2_clean\n",
    "month_to_season = {0: 'Winter', 1: 'Winter', 2: 'Winter',\n",
    "                   3: 'Spring', 4: 'Spring', 5: 'Spring'}\n",
    "\n",
    "d2_clean['season_label'] = d2_clean['month'].map(month_to_season)\n",
    "\n",
    "# Check counts per season\n",
    "print(d2_clean['season_label'].value_counts())\n",
    "\n",
    "# Compare food availability by season\n",
    "\n",
    "plt.figure(figsize=(8,6))\n",
    "sns.boxplot(x='season_label', y='food_availability', data=d2_clean)\n",
    "plt.title('Food Availability by Season')\n",
    "plt.xlabel('Season')\n",
    "plt.ylabel('Food Availability')\n",
    "plt.show()\n",
    "\n",
    "\n"
   ]
  },
  {
   "cell_type": "code",
   "execution_count": null,
   "id": "c200ee07",
   "metadata": {},
   "outputs": [
    {
     "data": {
      "text/html": [
       "<div>\n",
       "<style scoped>\n",
       "    .dataframe tbody tr th:only-of-type {\n",
       "        vertical-align: middle;\n",
       "    }\n",
       "\n",
       "    .dataframe tbody tr th {\n",
       "        vertical-align: top;\n",
       "    }\n",
       "\n",
       "    .dataframe thead th {\n",
       "        text-align: right;\n",
       "    }\n",
       "</style>\n",
       "<table border=\"1\" class=\"dataframe\">\n",
       "  <thead>\n",
       "    <tr style=\"text-align: right;\">\n",
       "      <th></th>\n",
       "      <th>seconds_after_rat_arrival</th>\n",
       "      <th>hours_after_sunset</th>\n",
       "      <th>bat_landing_to_food</th>\n",
       "    </tr>\n",
       "  </thead>\n",
       "  <tbody>\n",
       "    <tr>\n",
       "      <th>0</th>\n",
       "      <td>-0.714643</td>\n",
       "      <td>-1.558996</td>\n",
       "      <td>1.585868</td>\n",
       "    </tr>\n",
       "    <tr>\n",
       "      <th>1</th>\n",
       "      <td>-1.101438</td>\n",
       "      <td>-1.042367</td>\n",
       "      <td>-0.883539</td>\n",
       "    </tr>\n",
       "    <tr>\n",
       "      <th>2</th>\n",
       "      <td>-0.999426</td>\n",
       "      <td>-1.039567</td>\n",
       "      <td>-0.274794</td>\n",
       "    </tr>\n",
       "    <tr>\n",
       "      <th>3</th>\n",
       "      <td>-0.701891</td>\n",
       "      <td>-1.031399</td>\n",
       "      <td>0.655537</td>\n",
       "    </tr>\n",
       "    <tr>\n",
       "      <th>4</th>\n",
       "      <td>-0.349100</td>\n",
       "      <td>-1.021716</td>\n",
       "      <td>1.430813</td>\n",
       "    </tr>\n",
       "  </tbody>\n",
       "</table>\n",
       "</div>"
      ],
      "text/plain": [
       "   seconds_after_rat_arrival  hours_after_sunset  bat_landing_to_food\n",
       "0                  -0.714643           -1.558996             1.585868\n",
       "1                  -1.101438           -1.042367            -0.883539\n",
       "2                  -0.999426           -1.039567            -0.274794\n",
       "3                  -0.701891           -1.031399             0.655537\n",
       "4                  -0.349100           -1.021716             1.430813"
      ]
     },
     "execution_count": 198,
     "metadata": {},
     "output_type": "execute_result"
    }
   ],
   "source": [
    "#standardscalar, normalize continuous features so they have mean = 0 and standard deviation = 1\n",
    "# Continuous features to scale\n",
    "cont_cols = ['seconds_after_rat_arrival', 'hours_after_sunset', 'bat_landing_to_food']\n",
    "\n",
    "scaler = StandardScaler()\n",
    "d1_clean_scaled = d1_clean.copy()\n",
    "d1_clean_scaled[cont_cols] = scaler.fit_transform(d1_clean[cont_cols])\n",
    "\n",
    "# Check\n",
    "d1_clean_scaled[cont_cols].head()"
   ]
  },
  {
   "cell_type": "code",
   "execution_count": 231,
   "id": "639f440b",
   "metadata": {},
   "outputs": [
    {
     "name": "stdout",
     "output_type": "stream",
     "text": [
      "(760, 55)\n",
      "   seconds_after_rat_arrival  hours_after_sunset  bat_landing_to_food  \\\n",
      "0                  -0.714643           -1.558996             1.585868   \n",
      "1                  -1.101438           -1.042367            -0.883539   \n",
      "2                  -0.999426           -1.039567            -0.274794   \n",
      "3                  -0.701891           -1.031399             0.655537   \n",
      "4                  -0.349100           -1.021716             1.430813   \n",
      "\n",
      "   habit_attack_rat  habit_bat  habit_bat_and_pick  habit_bat_and_pick_far  \\\n",
      "0             False      False               False                   False   \n",
      "1             False      False               False                   False   \n",
      "2             False      False               False                   False   \n",
      "3             False      False               False                   False   \n",
      "4             False      False               False                   False   \n",
      "\n",
      "   habit_bat_and_rat  habit_bat_fight  habit_bat_fight_and_pick  ...  \\\n",
      "0              False            False                     False  ...   \n",
      "1              False            False                     False  ...   \n",
      "2              False            False                     False  ...   \n",
      "3              False            False                     False  ...   \n",
      "4              False            False                     False  ...   \n",
      "\n",
      "   habit_rat_and_others  habit_rat_and_pick  habit_rat_attack  habit_rat_bat  \\\n",
      "0                 False               False             False          False   \n",
      "1                 False               False             False          False   \n",
      "2                 False               False             False          False   \n",
      "3                 False               False             False          False   \n",
      "4                 False               False             False          False   \n",
      "\n",
      "   habit_rat_disappear  habit_rat_pick  habit_rat_pick_and_bat  \\\n",
      "0                False           False                   False   \n",
      "1                False           False                   False   \n",
      "2                False           False                   False   \n",
      "3                False           False                   False   \n",
      "4                False           False                   False   \n",
      "\n",
      "   habit_rat_to_bat  risk  reward  \n",
      "0             False     1       0  \n",
      "1             False     0       1  \n",
      "2             False     0       1  \n",
      "3             False     1       0  \n",
      "4             False     1       0  \n",
      "\n",
      "[5 rows x 55 columns]\n"
     ]
    }
   ],
   "source": [
    "#Select continuous columns to scale\n",
    "continuous_cols = ['seconds_after_rat_arrival', 'hours_after_sunset', 'bat_landing_to_food']\n",
    "scaler = StandardScaler()\n",
    "\n",
    "# Scale the continuous features\n",
    "d1_clean_scaled = pd.DataFrame(scaler.fit_transform(d1_clean[continuous_cols]),\n",
    "                               columns=continuous_cols,\n",
    "                               index=d1_clean.index)\n",
    "\n",
    "#Select habit dummy columns (already created)\n",
    "habit_dummy_cols = [col for col in d1_clean.columns if col.startswith('habit_')]\n",
    "\n",
    "# Include binary risk and reward columns\n",
    "binary_cols = ['risk', 'reward']\n",
    "\n",
    "#Combine everything into final dataframe\n",
    "d1_clean_final = pd.concat([d1_clean_scaled, d1_clean[habit_dummy_cols + binary_cols]], axis=1)\n",
    "\n",
    "# Optional: check the shape and first few rows\n",
    "print(d1_clean_final.shape)\n",
    "print(d1_clean_final.head())"
   ]
  },
  {
   "cell_type": "code",
   "execution_count": 236,
   "id": "3fcce1df",
   "metadata": {},
   "outputs": [
    {
     "name": "stdout",
     "output_type": "stream",
     "text": [
      "<class 'pandas.core.frame.DataFrame'>\n",
      "Index: 760 entries, 0 to 817\n",
      "Data columns (total 7 columns):\n",
      " #   Column                     Non-Null Count  Dtype  \n",
      "---  ------                     --------------  -----  \n",
      " 0   bat_landing_to_food        760 non-null    float64\n",
      " 1   seconds_after_rat_arrival  760 non-null    int64  \n",
      " 2   risk                       760 non-null    int64  \n",
      " 3   reward                     760 non-null    int64  \n",
      " 4   month                      760 non-null    int64  \n",
      " 5   hours_after_sunset         760 non-null    float64\n",
      " 6   season                     760 non-null    int64  \n",
      "dtypes: float64(2), int64(5)\n",
      "memory usage: 47.5 KB\n"
     ]
    }
   ],
   "source": [
    "#trying to keep only numerical values for linear regression\n",
    "d1_numeric = d1_clean.select_dtypes(include=['number'])\n",
    "\n",
    "# Check what’s left\n",
    "d1_numeric.info()\n"
   ]
  },
  {
   "cell_type": "code",
   "execution_count": 252,
   "id": "f62dd7a8",
   "metadata": {},
   "outputs": [],
   "source": [
    "#linear regression\n",
    "# One-hot encode rat_presence\n",
    "d1_encoded = pd.get_dummies(d1_clean[['rat_presence']], drop_first=True)\n",
    "\n",
    "# Combine with numeric features\n",
    "X_full = pd.concat([d1_numeric.drop(columns=['bat_landing_to_food']), d1_encoded], axis=1)\n",
    "y = d1_numeric['bat_landing_to_food']\n",
    "\n",
    "# Train-test split\n",
    "X_train, X_test, y_train, y_test = train_test_split(X_full, y, test_size=0.2, random_state=42)"
   ]
  },
  {
   "cell_type": "code",
   "execution_count": null,
   "id": "ab8a60fb",
   "metadata": {},
   "outputs": [],
   "source": [
    "# Fit linear regression\n",
    "lr_model = LinearRegression()\n",
    "lr_model.fit(X_train, y_train)\n",
    "\n",
    "# Predict\n",
    "y_pred = lr_model.predict(X_test)\n",
    "\n"
   ]
  },
  {
   "cell_type": "code",
   "execution_count": 256,
   "id": "95422983",
   "metadata": {},
   "outputs": [
    {
     "name": "stdout",
     "output_type": "stream",
     "text": [
      "Mean Squared Error: 39.874980391516544\n",
      "R² Score: 0.07801281729844733\n"
     ]
    }
   ],
   "source": [
    "# Evaluate\n",
    "mse = mean_squared_error(y_test, y_pred)\n",
    "r2 = r2_score(y_test, y_pred)\n",
    "\n",
    "print(\"Mean Squared Error:\", mse)\n",
    "print(\"R² Score:\", r2)\n"
   ]
  },
  {
   "cell_type": "code",
   "execution_count": 257,
   "id": "4b83a73d",
   "metadata": {},
   "outputs": [
    {
     "data": {
      "text/plain": [
       "Index(['start_time', 'rat_period_start', 'rat_period_end', 'sunset_time',\n",
       "       'rat_presence'],\n",
       "      dtype='object')"
      ]
     },
     "execution_count": 257,
     "metadata": {},
     "output_type": "execute_result"
    }
   ],
   "source": [
    "d1_clean.select_dtypes(include='object').columns\n",
    "\n",
    "\n"
   ]
  }
 ],
 "metadata": {
  "kernelspec": {
   "display_name": "hit140env",
   "language": "python",
   "name": "python3"
  },
  "language_info": {
   "codemirror_mode": {
    "name": "ipython",
    "version": 3
   },
   "file_extension": ".py",
   "mimetype": "text/x-python",
   "name": "python",
   "nbconvert_exporter": "python",
   "pygments_lexer": "ipython3",
   "version": "3.12.11"
  }
 },
 "nbformat": 4,
 "nbformat_minor": 5
}
