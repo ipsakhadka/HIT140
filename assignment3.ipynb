{
 "cells": [
  {
   "cell_type": "code",
   "execution_count": 127,
   "id": "f8a86fb9",
   "metadata": {},
   "outputs": [],
   "source": [
    "#importing libraries\n",
    "import numpy as np\n",
    "import pandas as pd\n",
    "import seaborn as sns\n",
    "import matplotlib.pyplot as plt\n",
    "from scipy import stats\n",
    "import re\n"
   ]
  },
  {
   "cell_type": "code",
   "execution_count": 128,
   "id": "22120ee0",
   "metadata": {},
   "outputs": [
    {
     "data": {
      "text/html": [
       "<div>\n",
       "<style scoped>\n",
       "    .dataframe tbody tr th:only-of-type {\n",
       "        vertical-align: middle;\n",
       "    }\n",
       "\n",
       "    .dataframe tbody tr th {\n",
       "        vertical-align: top;\n",
       "    }\n",
       "\n",
       "    .dataframe thead th {\n",
       "        text-align: right;\n",
       "    }\n",
       "</style>\n",
       "<table border=\"1\" class=\"dataframe\">\n",
       "  <thead>\n",
       "    <tr style=\"text-align: right;\">\n",
       "      <th></th>\n",
       "      <th>time</th>\n",
       "      <th>month</th>\n",
       "      <th>hours_after_sunset</th>\n",
       "      <th>bat_landing_number</th>\n",
       "      <th>food_availability</th>\n",
       "      <th>rat_minutes</th>\n",
       "      <th>rat_arrival_number</th>\n",
       "    </tr>\n",
       "  </thead>\n",
       "  <tbody>\n",
       "    <tr>\n",
       "      <th>0</th>\n",
       "      <td>26/12/2017 16:13</td>\n",
       "      <td>0</td>\n",
       "      <td>-0.5</td>\n",
       "      <td>20</td>\n",
       "      <td>4.000000</td>\n",
       "      <td>0.0</td>\n",
       "      <td>0</td>\n",
       "    </tr>\n",
       "    <tr>\n",
       "      <th>1</th>\n",
       "      <td>26/12/2017 16:43</td>\n",
       "      <td>0</td>\n",
       "      <td>0.0</td>\n",
       "      <td>28</td>\n",
       "      <td>4.000000</td>\n",
       "      <td>0.0</td>\n",
       "      <td>0</td>\n",
       "    </tr>\n",
       "    <tr>\n",
       "      <th>2</th>\n",
       "      <td>26/12/2017 17:13</td>\n",
       "      <td>0</td>\n",
       "      <td>0.5</td>\n",
       "      <td>25</td>\n",
       "      <td>4.000000</td>\n",
       "      <td>0.0</td>\n",
       "      <td>0</td>\n",
       "    </tr>\n",
       "    <tr>\n",
       "      <th>3</th>\n",
       "      <td>26/12/2017 17:43</td>\n",
       "      <td>0</td>\n",
       "      <td>1.0</td>\n",
       "      <td>71</td>\n",
       "      <td>4.000000</td>\n",
       "      <td>0.0</td>\n",
       "      <td>0</td>\n",
       "    </tr>\n",
       "    <tr>\n",
       "      <th>4</th>\n",
       "      <td>26/12/2017 18:13</td>\n",
       "      <td>0</td>\n",
       "      <td>1.5</td>\n",
       "      <td>44</td>\n",
       "      <td>3.753857</td>\n",
       "      <td>0.0</td>\n",
       "      <td>0</td>\n",
       "    </tr>\n",
       "    <tr>\n",
       "      <th>...</th>\n",
       "      <td>...</td>\n",
       "      <td>...</td>\n",
       "      <td>...</td>\n",
       "      <td>...</td>\n",
       "      <td>...</td>\n",
       "      <td>...</td>\n",
       "      <td>...</td>\n",
       "    </tr>\n",
       "    <tr>\n",
       "      <th>2118</th>\n",
       "      <td>1/06/2018 3:41</td>\n",
       "      <td>6</td>\n",
       "      <td>8.0</td>\n",
       "      <td>20</td>\n",
       "      <td>1.000000</td>\n",
       "      <td>0.0</td>\n",
       "      <td>0</td>\n",
       "    </tr>\n",
       "    <tr>\n",
       "      <th>2119</th>\n",
       "      <td>1/06/2018 4:11</td>\n",
       "      <td>6</td>\n",
       "      <td>8.5</td>\n",
       "      <td>7</td>\n",
       "      <td>1.000000</td>\n",
       "      <td>0.0</td>\n",
       "      <td>0</td>\n",
       "    </tr>\n",
       "    <tr>\n",
       "      <th>2120</th>\n",
       "      <td>1/06/2018 4:41</td>\n",
       "      <td>6</td>\n",
       "      <td>9.0</td>\n",
       "      <td>6</td>\n",
       "      <td>1.000000</td>\n",
       "      <td>0.0</td>\n",
       "      <td>0</td>\n",
       "    </tr>\n",
       "    <tr>\n",
       "      <th>2121</th>\n",
       "      <td>1/06/2018 5:11</td>\n",
       "      <td>6</td>\n",
       "      <td>9.5</td>\n",
       "      <td>7</td>\n",
       "      <td>1.000000</td>\n",
       "      <td>0.0</td>\n",
       "      <td>0</td>\n",
       "    </tr>\n",
       "    <tr>\n",
       "      <th>2122</th>\n",
       "      <td>1/06/2018 5:41</td>\n",
       "      <td>6</td>\n",
       "      <td>10.0</td>\n",
       "      <td>2</td>\n",
       "      <td>1.000000</td>\n",
       "      <td>0.0</td>\n",
       "      <td>0</td>\n",
       "    </tr>\n",
       "  </tbody>\n",
       "</table>\n",
       "<p>2123 rows × 7 columns</p>\n",
       "</div>"
      ],
      "text/plain": [
       "                  time  month  hours_after_sunset  bat_landing_number  \\\n",
       "0     26/12/2017 16:13      0                -0.5                  20   \n",
       "1     26/12/2017 16:43      0                 0.0                  28   \n",
       "2     26/12/2017 17:13      0                 0.5                  25   \n",
       "3     26/12/2017 17:43      0                 1.0                  71   \n",
       "4     26/12/2017 18:13      0                 1.5                  44   \n",
       "...                ...    ...                 ...                 ...   \n",
       "2118    1/06/2018 3:41      6                 8.0                  20   \n",
       "2119    1/06/2018 4:11      6                 8.5                   7   \n",
       "2120    1/06/2018 4:41      6                 9.0                   6   \n",
       "2121    1/06/2018 5:11      6                 9.5                   7   \n",
       "2122    1/06/2018 5:41      6                10.0                   2   \n",
       "\n",
       "      food_availability  rat_minutes  rat_arrival_number  \n",
       "0              4.000000          0.0                   0  \n",
       "1              4.000000          0.0                   0  \n",
       "2              4.000000          0.0                   0  \n",
       "3              4.000000          0.0                   0  \n",
       "4              3.753857          0.0                   0  \n",
       "...                 ...          ...                 ...  \n",
       "2118           1.000000          0.0                   0  \n",
       "2119           1.000000          0.0                   0  \n",
       "2120           1.000000          0.0                   0  \n",
       "2121           1.000000          0.0                   0  \n",
       "2122           1.000000          0.0                   0  \n",
       "\n",
       "[2123 rows x 7 columns]"
      ]
     },
     "execution_count": 128,
     "metadata": {},
     "output_type": "execute_result"
    }
   ],
   "source": [
    "#importing datasets\n",
    "d1 =pd.read_csv(\"./dataset1.csv\")\n",
    "d1\n",
    "d2 = pd.read_csv(\"./dataset2.csv\")\n",
    "d2\n",
    "\n",
    "#d1 is dataset1 and d2 is dataset2"
   ]
  },
  {
   "cell_type": "code",
   "execution_count": 129,
   "id": "368cb2ea",
   "metadata": {},
   "outputs": [
    {
     "name": "stdout",
     "output_type": "stream",
     "text": [
      "(907, 12)\n",
      "         start_time  bat_landing_to_food habit  rat_period_start  \\\n",
      "0  30/12/2017 18:37            16.000000   rat  30/12/2017 18:35   \n",
      "1  30/12/2017 19:51             0.074016  fast  30/12/2017 19:50   \n",
      "2  30/12/2017 19:51             4.000000  fast  30/12/2017 19:50   \n",
      "3  30/12/2017 19:52            10.000000   rat  30/12/2017 19:50   \n",
      "4  30/12/2017 19:54            15.000000   rat  30/12/2017 19:50   \n",
      "\n",
      "     rat_period_end  seconds_after_rat_arrival  risk  reward  month  \\\n",
      "0  30/12/2017 18:38                        108     1       0      0   \n",
      "1  30/12/2017 19:55                         17     0       1      0   \n",
      "2  30/12/2017 19:55                         41     0       1      0   \n",
      "3  30/12/2017 19:55                        111     1       0      0   \n",
      "4  30/12/2017 19:55                        194     1       0      0   \n",
      "\n",
      "        sunset_time  hours_after_sunset  season  \n",
      "0  30/12/2017 16:45            1.870833       0  \n",
      "1  30/12/2017 16:45            3.100833       0  \n",
      "2  30/12/2017 16:45            3.107500       0  \n",
      "3  30/12/2017 16:45            3.126944       0  \n",
      "4  30/12/2017 16:45            3.150000       0  \n",
      "          start_time  bat_landing_to_food     habit rat_period_start  \\\n",
      "902   4/05/2018 4:18                  2.0       rat   4/05/2018 4:14   \n",
      "903   4/05/2018 4:18                  1.0      fast   4/05/2018 4:14   \n",
      "904   4/05/2018 4:19                 22.0      pick   4/05/2018 4:14   \n",
      "905  3/05/2018 23:51                  2.0      fast  3/05/2018 23:46   \n",
      "906   4/05/2018 5:39                120.0  pick_rat   4/05/2018 5:37   \n",
      "\n",
      "      rat_period_end  seconds_after_rat_arrival  risk  reward  month  \\\n",
      "902   4/05/2018 4:30                        224     1       0      5   \n",
      "903   4/05/2018 4:30                        275     0       1      5   \n",
      "904   4/05/2018 4:30                        310     0       1      5   \n",
      "905  3/05/2018 23:52                        339     0       1      5   \n",
      "906   4/05/2018 6:10                        143     1       1      5   \n",
      "\n",
      "         sunset_time  hours_after_sunset  season  \n",
      "902  3/05/2018 19:22            8.933333       1  \n",
      "903  3/05/2018 19:22            8.947500       1  \n",
      "904  3/05/2018 19:22            8.957222       1  \n",
      "905  3/05/2018 19:22            4.498889       1  \n",
      "906  3/05/2018 19:22           10.297500       1  \n",
      "       bat_landing_to_food  hours_after_sunset\n",
      "count           907.000000          907.000000\n",
      "mean             11.713134            5.531863\n",
      "std              27.644410            2.414146\n",
      "min               0.010238           -0.261667\n",
      "25%               1.000000            3.779028\n",
      "50%               4.000000            5.622778\n",
      "75%              11.500000            7.402778\n",
      "max             443.000000           12.091944\n",
      "       seconds_after_rat_arrival        risk      reward       month  \\\n",
      "count                 907.000000  907.000000  907.000000  907.000000   \n",
      "mean                  282.877619    0.495039    0.533627    3.800441   \n",
      "std                   240.974918    0.500251    0.499143    1.199190   \n",
      "min                     0.000000    0.000000    0.000000    0.000000   \n",
      "25%                    89.500000    0.000000    0.000000    4.000000   \n",
      "50%                   206.000000    0.000000    1.000000    4.000000   \n",
      "75%                   446.500000    1.000000    1.000000    5.000000   \n",
      "max                   949.000000    1.000000    1.000000    5.000000   \n",
      "\n",
      "           season  \n",
      "count  907.000000  \n",
      "mean     0.833517  \n",
      "std      0.372719  \n",
      "min      0.000000  \n",
      "25%      1.000000  \n",
      "50%      1.000000  \n",
      "75%      1.000000  \n",
      "max      1.000000  \n",
      "             start_time habit  rat_period_start    rat_period_end  \\\n",
      "count               907   866               907               907   \n",
      "unique              628    81               268               268   \n",
      "top     21/04/2018 2:17  fast  26/04/2018 22:25  26/04/2018 22:36   \n",
      "freq                  6   245                29                29   \n",
      "\n",
      "             sunset_time  \n",
      "count                907  \n",
      "unique                65  \n",
      "top     26/04/2018 19:17  \n",
      "freq                 101  \n"
     ]
    }
   ],
   "source": [
    "#reading the dataset1, analyzing dtypes\n",
    "print (d1.shape)\n",
    "print (d1.head(5))\n",
    "print (d1.tail())\n",
    "print(d1.describe(include =\"float64\"))\n",
    "print(d1.describe(include =\"int64\"))\n",
    "print(d1.describe(include=\"object\"))\n",
    "\n"
   ]
  },
  {
   "cell_type": "markdown",
   "id": "ce6d5bcf",
   "metadata": {},
   "source": [
    "Investigation B \n",
    "Do the behaviours described above change following seasonal changes? \n",
    "It is known that in winter, alternative food sources are scarce and rat encounters are less frequent. In spring, food is more abundant and rat encounters are more common. To provide answers to both investigations, your team should decide the appropriate data science techniques to use for analysing the following datasets."
   ]
  },
  {
   "cell_type": "code",
   "execution_count": 130,
   "id": "690c5aec",
   "metadata": {},
   "outputs": [],
   "source": [
    "#We must see if bat–rat interactions or bat behaviours differ by season.\n",
    "#Bat behaviour (risk, reward, vigilance time)\n",
    "#Rat activity (rat arrivals, rat minutes)\n",
    "#Food availability and see if these vary noticeably between winter and spring."
   ]
  },
  {
   "cell_type": "code",
   "execution_count": 131,
   "id": "a7d7aa2c",
   "metadata": {},
   "outputs": [
    {
     "data": {
      "text/plain": [
       "season\n",
       "1    756\n",
       "0    151\n",
       "Name: count, dtype: int64"
      ]
     },
     "execution_count": 131,
     "metadata": {},
     "output_type": "execute_result"
    }
   ],
   "source": [
    "#counting values for season column in d1\n",
    "d1['season'].value_counts()"
   ]
  },
  {
   "cell_type": "code",
   "execution_count": 132,
   "id": "558c8bc1",
   "metadata": {},
   "outputs": [
    {
     "data": {
      "text/html": [
       "<div>\n",
       "<style scoped>\n",
       "    .dataframe tbody tr th:only-of-type {\n",
       "        vertical-align: middle;\n",
       "    }\n",
       "\n",
       "    .dataframe tbody tr th {\n",
       "        vertical-align: top;\n",
       "    }\n",
       "\n",
       "    .dataframe thead th {\n",
       "        text-align: right;\n",
       "    }\n",
       "</style>\n",
       "<table border=\"1\" class=\"dataframe\">\n",
       "  <thead>\n",
       "    <tr style=\"text-align: right;\">\n",
       "      <th></th>\n",
       "      <th>bat_landing_to_food</th>\n",
       "      <th>risk</th>\n",
       "      <th>reward</th>\n",
       "    </tr>\n",
       "    <tr>\n",
       "      <th>season</th>\n",
       "      <th></th>\n",
       "      <th></th>\n",
       "      <th></th>\n",
       "    </tr>\n",
       "  </thead>\n",
       "  <tbody>\n",
       "    <tr>\n",
       "      <th>0</th>\n",
       "      <td>6.039623</td>\n",
       "      <td>0.562914</td>\n",
       "      <td>0.364238</td>\n",
       "    </tr>\n",
       "    <tr>\n",
       "      <th>1</th>\n",
       "      <td>12.846335</td>\n",
       "      <td>0.481481</td>\n",
       "      <td>0.567460</td>\n",
       "    </tr>\n",
       "  </tbody>\n",
       "</table>\n",
       "</div>"
      ],
      "text/plain": [
       "        bat_landing_to_food      risk    reward\n",
       "season                                         \n",
       "0                  6.039623  0.562914  0.364238\n",
       "1                 12.846335  0.481481  0.567460"
      ]
     },
     "execution_count": 132,
     "metadata": {},
     "output_type": "execute_result"
    }
   ],
   "source": [
    "#grouping for seasonal statistical summary\n",
    "d1.groupby('season')[['bat_landing_to_food', 'risk', 'reward']].mean()"
   ]
  },
  {
   "cell_type": "code",
   "execution_count": 133,
   "id": "54a48930",
   "metadata": {},
   "outputs": [
    {
     "data": {
      "text/plain": [
       "start_time                   0\n",
       "bat_landing_to_food          0\n",
       "habit                        0\n",
       "rat_period_start             0\n",
       "rat_period_end               0\n",
       "seconds_after_rat_arrival    0\n",
       "risk                         0\n",
       "reward                       0\n",
       "month                        0\n",
       "sunset_time                  0\n",
       "hours_after_sunset           0\n",
       "season                       0\n",
       "dtype: int64"
      ]
     },
     "execution_count": 133,
     "metadata": {},
     "output_type": "execute_result"
    }
   ],
   "source": [
    "#data cleaning\n",
    "#finding missing values\n",
    "d1.isnull().sum()\n",
    "#let's fill missing values instead of dropping\n",
    "d1= d1.fillna({'habit':'NA'})\n",
    "#rechecking the missing values\n",
    "d1.isnull().sum()\n",
    "\n"
   ]
  },
  {
   "cell_type": "code",
   "execution_count": 134,
   "id": "93d0b0d1",
   "metadata": {},
   "outputs": [
    {
     "name": "stdout",
     "output_type": "stream",
     "text": [
      "1\n",
      "0\n"
     ]
    }
   ],
   "source": [
    "#checking for duplicates:\n",
    "dup1= print(d1.duplicated().sum())\n",
    "dup2= print(d2.duplicated().sum())"
   ]
  },
  {
   "cell_type": "code",
   "execution_count": 135,
   "id": "c753425b",
   "metadata": {},
   "outputs": [
    {
     "name": "stdout",
     "output_type": "stream",
     "text": [
      "0\n"
     ]
    }
   ],
   "source": [
    "# dropping the 1duplicate in dataset1\n",
    "d1 = d1.drop_duplicates(keep='last')\n",
    "\n",
    "#checking the update\n",
    "dup1= print(d1.duplicated().sum())"
   ]
  },
  {
   "cell_type": "code",
   "execution_count": 200,
   "id": "19276fce",
   "metadata": {},
   "outputs": [
    {
     "data": {
      "text/plain": [
       "time                  0\n",
       "month                 0\n",
       "hours_after_sunset    0\n",
       "bat_landing_number    0\n",
       "food_availability     0\n",
       "rat_minutes           0\n",
       "rat_arrival_number    0\n",
       "dtype: int64"
      ]
     },
     "execution_count": 200,
     "metadata": {},
     "output_type": "execute_result"
    }
   ],
   "source": [
    "#missing values of d2\n",
    "d2.isnull().sum()\n",
    "\n",
    "#output- 0 missing values\n"
   ]
  },
  {
   "cell_type": "code",
   "execution_count": 217,
   "id": "3da566f9",
   "metadata": {},
   "outputs": [
    {
     "data": {
      "text/html": [
       "<div>\n",
       "<style scoped>\n",
       "    .dataframe tbody tr th:only-of-type {\n",
       "        vertical-align: middle;\n",
       "    }\n",
       "\n",
       "    .dataframe tbody tr th {\n",
       "        vertical-align: top;\n",
       "    }\n",
       "\n",
       "    .dataframe thead th {\n",
       "        text-align: right;\n",
       "    }\n",
       "</style>\n",
       "<table border=\"1\" class=\"dataframe\">\n",
       "  <thead>\n",
       "    <tr style=\"text-align: right;\">\n",
       "      <th></th>\n",
       "      <th>time</th>\n",
       "      <th>month</th>\n",
       "      <th>hours_after_sunset</th>\n",
       "      <th>bat_landing_number</th>\n",
       "      <th>food_availability</th>\n",
       "      <th>rat_minutes</th>\n",
       "      <th>rat_arrival_number</th>\n",
       "    </tr>\n",
       "  </thead>\n",
       "  <tbody>\n",
       "    <tr>\n",
       "      <th>0</th>\n",
       "      <td>26/12/2017 16:13</td>\n",
       "      <td>0</td>\n",
       "      <td>-0.5</td>\n",
       "      <td>20</td>\n",
       "      <td>4.000000</td>\n",
       "      <td>0.0</td>\n",
       "      <td>0</td>\n",
       "    </tr>\n",
       "    <tr>\n",
       "      <th>1</th>\n",
       "      <td>26/12/2017 16:43</td>\n",
       "      <td>0</td>\n",
       "      <td>0.0</td>\n",
       "      <td>28</td>\n",
       "      <td>4.000000</td>\n",
       "      <td>0.0</td>\n",
       "      <td>0</td>\n",
       "    </tr>\n",
       "    <tr>\n",
       "      <th>2</th>\n",
       "      <td>26/12/2017 17:13</td>\n",
       "      <td>0</td>\n",
       "      <td>0.5</td>\n",
       "      <td>25</td>\n",
       "      <td>4.000000</td>\n",
       "      <td>0.0</td>\n",
       "      <td>0</td>\n",
       "    </tr>\n",
       "    <tr>\n",
       "      <th>3</th>\n",
       "      <td>26/12/2017 17:43</td>\n",
       "      <td>0</td>\n",
       "      <td>1.0</td>\n",
       "      <td>71</td>\n",
       "      <td>4.000000</td>\n",
       "      <td>0.0</td>\n",
       "      <td>0</td>\n",
       "    </tr>\n",
       "    <tr>\n",
       "      <th>4</th>\n",
       "      <td>26/12/2017 18:13</td>\n",
       "      <td>0</td>\n",
       "      <td>1.5</td>\n",
       "      <td>44</td>\n",
       "      <td>3.753857</td>\n",
       "      <td>0.0</td>\n",
       "      <td>0</td>\n",
       "    </tr>\n",
       "    <tr>\n",
       "      <th>...</th>\n",
       "      <td>...</td>\n",
       "      <td>...</td>\n",
       "      <td>...</td>\n",
       "      <td>...</td>\n",
       "      <td>...</td>\n",
       "      <td>...</td>\n",
       "      <td>...</td>\n",
       "    </tr>\n",
       "    <tr>\n",
       "      <th>2118</th>\n",
       "      <td>1/06/2018 3:41</td>\n",
       "      <td>6</td>\n",
       "      <td>8.0</td>\n",
       "      <td>20</td>\n",
       "      <td>1.000000</td>\n",
       "      <td>0.0</td>\n",
       "      <td>0</td>\n",
       "    </tr>\n",
       "    <tr>\n",
       "      <th>2119</th>\n",
       "      <td>1/06/2018 4:11</td>\n",
       "      <td>6</td>\n",
       "      <td>8.5</td>\n",
       "      <td>7</td>\n",
       "      <td>1.000000</td>\n",
       "      <td>0.0</td>\n",
       "      <td>0</td>\n",
       "    </tr>\n",
       "    <tr>\n",
       "      <th>2120</th>\n",
       "      <td>1/06/2018 4:41</td>\n",
       "      <td>6</td>\n",
       "      <td>9.0</td>\n",
       "      <td>6</td>\n",
       "      <td>1.000000</td>\n",
       "      <td>0.0</td>\n",
       "      <td>0</td>\n",
       "    </tr>\n",
       "    <tr>\n",
       "      <th>2121</th>\n",
       "      <td>1/06/2018 5:11</td>\n",
       "      <td>6</td>\n",
       "      <td>9.5</td>\n",
       "      <td>7</td>\n",
       "      <td>1.000000</td>\n",
       "      <td>0.0</td>\n",
       "      <td>0</td>\n",
       "    </tr>\n",
       "    <tr>\n",
       "      <th>2122</th>\n",
       "      <td>1/06/2018 5:41</td>\n",
       "      <td>6</td>\n",
       "      <td>10.0</td>\n",
       "      <td>2</td>\n",
       "      <td>1.000000</td>\n",
       "      <td>0.0</td>\n",
       "      <td>0</td>\n",
       "    </tr>\n",
       "  </tbody>\n",
       "</table>\n",
       "<p>2123 rows × 7 columns</p>\n",
       "</div>"
      ],
      "text/plain": [
       "                  time  month  hours_after_sunset  bat_landing_number  \\\n",
       "0     26/12/2017 16:13      0                -0.5                  20   \n",
       "1     26/12/2017 16:43      0                 0.0                  28   \n",
       "2     26/12/2017 17:13      0                 0.5                  25   \n",
       "3     26/12/2017 17:43      0                 1.0                  71   \n",
       "4     26/12/2017 18:13      0                 1.5                  44   \n",
       "...                ...    ...                 ...                 ...   \n",
       "2118    1/06/2018 3:41      6                 8.0                  20   \n",
       "2119    1/06/2018 4:11      6                 8.5                   7   \n",
       "2120    1/06/2018 4:41      6                 9.0                   6   \n",
       "2121    1/06/2018 5:11      6                 9.5                   7   \n",
       "2122    1/06/2018 5:41      6                10.0                   2   \n",
       "\n",
       "      food_availability  rat_minutes  rat_arrival_number  \n",
       "0              4.000000          0.0                   0  \n",
       "1              4.000000          0.0                   0  \n",
       "2              4.000000          0.0                   0  \n",
       "3              4.000000          0.0                   0  \n",
       "4              3.753857          0.0                   0  \n",
       "...                 ...          ...                 ...  \n",
       "2118           1.000000          0.0                   0  \n",
       "2119           1.000000          0.0                   0  \n",
       "2120           1.000000          0.0                   0  \n",
       "2121           1.000000          0.0                   0  \n",
       "2122           1.000000          0.0                   0  \n",
       "\n",
       "[2123 rows x 7 columns]"
      ]
     },
     "execution_count": 217,
     "metadata": {},
     "output_type": "execute_result"
    }
   ],
   "source": [
    "#importing cleaned/processed dataset from Assignment 2 \n",
    "d1_clean =pd.read_csv(\"./d1_clean.csv\")\n",
    "d1\n",
    "d2_clean = pd.read_csv(\"./d2_clean.csv\")\n",
    "d2\n"
   ]
  },
  {
   "cell_type": "code",
   "execution_count": 218,
   "id": "e82228fe",
   "metadata": {},
   "outputs": [],
   "source": [
    "#inner merging\n",
    "merged1 = pd.merge(d1, d2)\n",
    "\n",
    "# Save the merged dataset to a new CSV file\n",
    "merged1.to_csv('in_merged_dataset.csv', index=False)\n"
   ]
  },
  {
   "cell_type": "code",
   "execution_count": 219,
   "id": "eaffd5d3",
   "metadata": {},
   "outputs": [
    {
     "name": "stdout",
     "output_type": "stream",
     "text": [
      "Inner merge shape (number of rows, columns): (20, 594)\n",
      "Unique months in inner merge: [4]\n",
      "Counts per month in inner merge:\n",
      "month\n",
      "4    20\n",
      "Name: count, dtype: int64\n"
     ]
    }
   ],
   "source": [
    "#inner merge data analysis\n",
    "print(\"Inner merge shape (number of rows, columns):\", merged1.shape)\n",
    "# Unique months in inner merge\n",
    "print(\"Unique months in inner merge:\", merged1['month'].unique())\n",
    "print(\"Counts per month in inner merge:\")\n",
    "print(merged1['month'].value_counts())\n",
    "\n"
   ]
  },
  {
   "cell_type": "code",
   "execution_count": 220,
   "id": "62bf5b11",
   "metadata": {},
   "outputs": [
    {
     "name": "stdout",
     "output_type": "stream",
     "text": [
      "  start_time  bat_landing_to_food habit rat_period_start rat_period_end  \\\n",
      "0        NaN                  NaN   NaN              NaN            NaN   \n",
      "1        NaN                  NaN   NaN              NaN            NaN   \n",
      "2        NaN                  NaN   NaN              NaN            NaN   \n",
      "3        NaN                  NaN   NaN              NaN            NaN   \n",
      "4        NaN                  NaN   NaN              NaN            NaN   \n",
      "\n",
      "   seconds_after_rat_arrival  risk  reward  month sunset_time  ...  \\\n",
      "0                        NaN   NaN     NaN      0         NaN  ...   \n",
      "1                        NaN   NaN     NaN      0         NaN  ...   \n",
      "2                        NaN   NaN     NaN      0         NaN  ...   \n",
      "3                        NaN   NaN     NaN      0         NaN  ...   \n",
      "4                        NaN   NaN     NaN      0         NaN  ...   \n",
      "\n",
      "   habit_rat_disappear  habit_rat_pick habit_rat_pick_and_bat  \\\n",
      "0                  NaN             NaN                    NaN   \n",
      "1                  NaN             NaN                    NaN   \n",
      "2                  NaN             NaN                    NaN   \n",
      "3                  NaN             NaN                    NaN   \n",
      "4                  NaN             NaN                    NaN   \n",
      "\n",
      "  habit_rat_to_bat season_label              time bat_landing_number  \\\n",
      "0              NaN          NaN  29/12/2017 14:45                7.0   \n",
      "1              NaN          NaN  30/12/2017 14:45               10.0   \n",
      "2              NaN          NaN  29/12/2017 15:15                1.0   \n",
      "3              NaN          NaN  30/12/2017 15:15               14.0   \n",
      "4              NaN          NaN  29/12/2017 15:45                1.0   \n",
      "\n",
      "  food_availability rat_minutes rat_arrival_number  \n",
      "0               4.0         0.0                0.0  \n",
      "1               0.0         0.0                0.0  \n",
      "2               4.0         0.0                0.0  \n",
      "3               0.0         0.0                0.0  \n",
      "4               4.0         0.0                0.0  \n",
      "\n",
      "[5 rows x 594 columns]\n"
     ]
    }
   ],
   "source": [
    "#data merging\n",
    "merged2 = pd.merge(d1, d2, how='outer') # outer because tried using the defult inner which deleted everything except the 20 row that overlapped\n",
    "\n",
    "# Save the merged dataset to a new CSV file\n",
    "merged2.to_csv('out_merged_dataset.csv', index=False)\n",
    "\n",
    "#check first few rows\n",
    "print(merged2.head())"
   ]
  },
  {
   "cell_type": "code",
   "execution_count": 221,
   "id": "da30fb6e",
   "metadata": {},
   "outputs": [
    {
     "name": "stdout",
     "output_type": "stream",
     "text": [
      "Unique months: [0 1 2 3 4 5 6]\n",
      "Shape of merged dataset: (2967, 594)\n"
     ]
    }
   ],
   "source": [
    "# Check that all months are now present\n",
    "print(\"Unique months:\", merged2['month'].unique())\n",
    "print(\"Shape of merged dataset:\", merged2.shape)\n"
   ]
  },
  {
   "cell_type": "code",
   "execution_count": 222,
   "id": "aab419e3",
   "metadata": {},
   "outputs": [
    {
     "data": {
      "text/plain": [
       "start_time             2103\n",
       "bat_landing_to_food    2103\n",
       "habit                  2103\n",
       "rat_period_start       2103\n",
       "rat_period_end         2103\n",
       "                       ... \n",
       "time                    844\n",
       "bat_landing_number      844\n",
       "food_availability       844\n",
       "rat_minutes             844\n",
       "rat_arrival_number      844\n",
       "Length: 594, dtype: int64"
      ]
     },
     "execution_count": 222,
     "metadata": {},
     "output_type": "execute_result"
    }
   ],
   "source": [
    "#cleaning the new(merged) dataset\n",
    "\n",
    "merged2.isnull().sum()\n",
    "\n",
    "#no null values"
   ]
  },
  {
   "cell_type": "code",
   "execution_count": 228,
   "id": "64da160e",
   "metadata": {},
   "outputs": [
    {
     "name": "stdout",
     "output_type": "stream",
     "text": [
      "Summary statistics for Dataset 1 (d1_clean):\n",
      "             risk      reward      season       month  bat_landing_to_food  \\\n",
      "count  818.000000  818.000000  818.000000  818.000000           818.000000   \n",
      "mean     0.463325    0.536675    0.820293    3.740831             5.695370   \n",
      "std      0.498958    0.498958    0.384178    1.222522             6.483649   \n",
      "min      0.000000    0.000000    0.000000    0.000000             0.010238   \n",
      "25%      0.000000    0.000000    1.000000    4.000000             1.000000   \n",
      "50%      0.000000    1.000000    1.000000    4.000000             3.000000   \n",
      "75%      1.000000    1.000000    1.000000    4.000000             8.000000   \n",
      "max      1.000000    1.000000    1.000000    5.000000            27.000000   \n",
      "\n",
      "       seconds_after_rat_arrival  \n",
      "count                 818.000000  \n",
      "mean                  280.419315  \n",
      "std                   240.268580  \n",
      "min                     0.000000  \n",
      "25%                    87.250000  \n",
      "50%                   205.000000  \n",
      "75%                   442.250000  \n",
      "max                   949.000000  \n",
      "\n",
      "Summary statistics for Dataset 2 (d2_clean):\n",
      "       bat_landing_number  food_availability  rat_minutes  rat_arrival_number  \\\n",
      "count         1555.000000        1555.000000       1555.0              1555.0   \n",
      "mean            32.292605           2.499045          0.0                 0.0   \n",
      "std             24.183712           1.266952          0.0                 0.0   \n",
      "min              1.000000           0.000000          0.0                 0.0   \n",
      "25%             11.000000           1.926137          0.0                 0.0   \n",
      "50%             29.000000           3.000000          0.0                 0.0   \n",
      "75%             49.000000           3.636035          0.0                 0.0   \n",
      "max            102.000000           4.000000          0.0                 0.0   \n",
      "\n",
      "             month  hours_after_sunset  \n",
      "count  1555.000000         1555.000000  \n",
      "mean      2.843730            4.988746  \n",
      "std       1.662871            4.192984  \n",
      "min       0.000000           -2.000000  \n",
      "25%       1.000000            1.500000  \n",
      "50%       3.000000            5.000000  \n",
      "75%       4.000000            8.500000  \n",
      "max       6.000000           13.500000  \n"
     ]
    }
   ],
   "source": [
    "#EDA\n",
    "#resuning cleaned Dataset from assignment 2 \n",
    "# Statistical summary for key columns in d1_clean\n",
    "print(\"Summary statistics for Dataset 1 (d1_clean):\")\n",
    "cols_d1_clean = ['risk', 'reward', 'season', 'month', 'bat_landing_to_food', 'seconds_after_rat_arrival']\n",
    "print(d1_clean[cols_d1_clean].describe(include='all'))\n",
    "\n",
    "# Statistical summary for key columns in d2\n",
    "print(\"\\nSummary statistics for Dataset 2 (d2_clean):\")\n",
    "cols_d2_clean = ['bat_landing_number', 'food_availability', 'rat_minutes', 'rat_arrival_number', 'month', 'hours_after_sunset']\n",
    "print(d2_clean[cols_d2_clean].describe(include='all'))\n",
    "\n",
    "\n"
   ]
  },
  {
   "cell_type": "code",
   "execution_count": null,
   "id": "77fea693",
   "metadata": {},
   "outputs": [
    {
     "name": "stdout",
     "output_type": "stream",
     "text": [
      "['rat', 'fast', 'pick', 'bat_fight', 'rat_and_no_food', ..., 'fight_bat', 'bat_fight_and_rat', 'rat_and_rat', 'not_sure_rat', 'rat_and_bat_and_pick']\n",
      "Length: 61\n",
      "Categories (82, object): ['157.0,2.6,349.0,159.3; 572.1,275.7,638.3,360.0', '187.0,152.0,304.0,240.0; 567.9,88.6,621.1,140.3', '218.0,171.0,381.0,269.0; 239.0,106.0,315.0,15..., '243.6,235.6,432.2,329.8; 559.0,244.0,622.0,39..., ..., 'rat_disappear', 'rat_pick', 'rat_pick_and_bat', 'rat_to_bat']\n",
      "habit\n",
      "fast               245\n",
      "rat                221\n",
      "pick               139\n",
      "bat                 30\n",
      "bat_fight           25\n",
      "bat_and_pick        20\n",
      "bat_and_rat         19\n",
      "rat_and_bat         14\n",
      "rat_pick            14\n",
      "pick_and_bat         8\n",
      "pick_and_others      8\n",
      "rat_and_pick         8\n",
      "other_bats           7\n",
      "bats                 7\n",
      "pick_and_rat         6\n",
      "pick_bat             6\n",
      "others               5\n",
      "all_pick             5\n",
      "no_food              4\n",
      "pick_rat             4\n",
      "both                 4\n",
      "bat_pick             3\n",
      "pick_and_all         3\n",
      "fight                2\n",
      "fight_rat            2\n",
      "not_sure_rat         1\n",
      "gaze                 1\n",
      "other                1\n",
      "other_bat            1\n",
      "fast_and_pick        1\n",
      "Name: count, dtype: int64\n"
     ]
    }
   ],
   "source": [
    "#processing and preparing Habit Column\n",
    "# Keep only string entries and remove 'NA'\n",
    "# Keep only valid habit strings: letters + underscores, no digits or commas\n",
    "d1_clean = d1_clean[d1_clean['habit'].apply(lambda x: isinstance(x, str) \n",
    "                          and x.upper() != 'NA' \n",
    "                          and bool(re.fullmatch(r'[A-Za-z_]+', x)))]\n",
    "\n",
    "\n",
    "# Convert to categorical (optional, recommended)\n",
    "d1_clean['habit'] = d1_clean['habit'].astype('category')\n",
    "\n",
    "# Check the cleaned habit values\n",
    "print(d1_clean['habit'].unique())\n",
    "print(d1_clean['habit'].value_counts().head(30))\n",
    "\n"
   ]
  },
  {
   "cell_type": "code",
   "execution_count": 233,
   "id": "ffc9dc3e",
   "metadata": {},
   "outputs": [
    {
     "name": "stdout",
     "output_type": "stream",
     "text": [
      "['rat', 'fast', 'pick', 'bat_fight', 'rat_and_no_food', ..., 'pick_rat_and_bat', 'bat_fight_and_rat', 'not_sure_rat', '501.0,358.4,636.2,423.4; 476.0,103.0,634.0,20..., 'rat_and_bat_and_pick']\n",
      "Length: 70\n",
      "Categories (69, object): ['157.0,2.6,349.0,159.3; 572.1,275.7,638.3,360.0', '187.0,152.0,304.0,240.0; 567.9,88.6,621.1,140.3', '218.0,171.0,381.0,269.0; 239.0,106.0,315.0,15..., '243.6,235.6,432.2,329.8; 559.0,244.0,622.0,39..., ..., 'rat_disappear', 'rat_pick', 'rat_pick_and_bat', 'rat_to_bat']\n",
      "            start_time  bat_landing_to_food habit     rat_period_start  \\\n",
      "0  2017-12-30 18:37:00            16.000000   rat  2017-12-30 18:35:00   \n",
      "1  2017-12-30 19:51:00             0.074016  fast  2017-12-30 19:50:00   \n",
      "2  2017-12-30 19:51:00             4.000000  fast  2017-12-30 19:50:00   \n",
      "3  2017-12-30 19:52:00            10.000000   rat  2017-12-30 19:50:00   \n",
      "4  2017-12-30 19:54:00            15.000000   rat  2017-12-30 19:50:00   \n",
      "\n",
      "        rat_period_end  seconds_after_rat_arrival  risk  reward  month  \\\n",
      "0  2017-12-30 18:38:00                        108     1       0      0   \n",
      "1  2017-12-30 19:55:00                         17     0       1      0   \n",
      "2  2017-12-30 19:55:00                         41     0       1      0   \n",
      "3  2017-12-30 19:55:00                        111     1       0      0   \n",
      "4  2017-12-30 19:55:00                        194     1       0      0   \n",
      "\n",
      "        sunset_time  ...  habit_rat_and_bat_and_pick  habit_rat_and_no_food  \\\n",
      "0  30/12/2017 16:45  ...                       False                  False   \n",
      "1  30/12/2017 16:45  ...                       False                  False   \n",
      "2  30/12/2017 16:45  ...                       False                  False   \n",
      "3  30/12/2017 16:45  ...                       False                  False   \n",
      "4  30/12/2017 16:45  ...                       False                  False   \n",
      "\n",
      "  habit_rat_and_others  habit_rat_and_pick  habit_rat_attack  habit_rat_bat  \\\n",
      "0                False               False             False          False   \n",
      "1                False               False             False          False   \n",
      "2                False               False             False          False   \n",
      "3                False               False             False          False   \n",
      "4                False               False             False          False   \n",
      "\n",
      "   habit_rat_disappear  habit_rat_pick  habit_rat_pick_and_bat  \\\n",
      "0                False           False                   False   \n",
      "1                False           False                   False   \n",
      "2                False           False                   False   \n",
      "3                False           False                   False   \n",
      "4                False           False                   False   \n",
      "\n",
      "   habit_rat_to_bat  \n",
      "0             False  \n",
      "1             False  \n",
      "2             False  \n",
      "3             False  \n",
      "4             False  \n",
      "\n",
      "[5 rows x 82 columns]\n"
     ]
    }
   ],
   "source": [
    "\n",
    "# Convert to category \n",
    "d1_clean['habit'] = d1_clean['habit'].astype('category')\n",
    "\n",
    "# Create dummy variables\n",
    "habit_dummies = pd.get_dummies(d1_clean['habit'], prefix='habit')\n",
    "d1_clean = pd.concat([d1_clean, habit_dummies], axis=1)\n",
    "\n",
    "# Check the cleaned dataset\n",
    "print(d1_clean['habit'].unique())\n",
    "print(d1_clean.head())"
   ]
  },
  {
   "cell_type": "code",
   "execution_count": 236,
   "id": "a69c4aae",
   "metadata": {},
   "outputs": [
    {
     "data": {
      "image/png": "[encoded data removed]",
      "text/plain": [
       "<Figure size 1200x600 with 1 Axes>"
      ]
     },
     "metadata": {},
     "output_type": "display_data"
    }
   ],
   "source": [
    "#plotting overall frequencies\n",
    "# Sort by count for better visualization\n",
    "habit_counts = d1['habit'].value_counts().sort_values(ascending=False).head(25)\n",
    "\n",
    "habit_counts.plot(kind='bar', color='skyblue', edgecolor='black', figsize=(12,6))\n",
    "plt.title('Overall Habit Frequencies')\n",
    "plt.xlabel('Habit')\n",
    "plt.ylabel('Count')\n",
    "plt.xticks(rotation=45)\n",
    "plt.show()"
   ]
  },
  {
   "cell_type": "code",
   "execution_count": 239,
   "id": "43976b67",
   "metadata": {},
   "outputs": [
    {
     "name": "stderr",
     "output_type": "stream",
     "text": [
      "/var/folders/wh/xw98sbx17fz88zct2t143p9c0000gn/T/ipykernel_12200/3731408389.py:14: SettingWithCopyWarning: \n",
      "A value is trying to be set on a copy of a slice from a DataFrame.\n",
      "Try using .loc[row_indexer,col_indexer] = value instead\n",
      "\n",
      "See the caveats in the documentation: https://pandas.pydata.org/pandas-docs/stable/user_guide/indexing.html#returning-a-view-versus-a-copy\n",
      "  habit_season_counts_filtered['habit'] = pd.Categorical(\n"
     ]
    },
    {
     "data": {
      "image/png": "[encoded data removed]",
      "text/plain": [
       "<Figure size 1400x600 with 1 Axes>"
      ]
     },
     "metadata": {},
     "output_type": "display_data"
    }
   ],
   "source": [
    "# List of specific habits to show on x-axis\n",
    "# List of specific habits in the order you want them\n",
    "selected_habits = [\n",
    "    'fast', 'rat', 'pick', 'bat', 'bat_fight', 'bat_and_pick', 'bat_and_rat',\n",
    "    'rat_and_bat', 'rat_pick', 'pick_and_bat', 'pick_and_others', 'rat_and_pick',\n",
    "    'other_bats', 'bats', 'pick_and_rat', 'pick_bat', 'others', 'all_pick', \n",
    "    'no_food', 'pick_rat', 'both'\n",
    "]\n",
    "\n",
    "# Filter the dataframe\n",
    "habit_season_counts_filtered = habit_season_counts[habit_season_counts['habit'].isin(selected_habits)]\n",
    "\n",
    "# Ensure 'habit' column follows the specific order\n",
    "habit_season_counts_filtered['habit'] = pd.Categorical(\n",
    "    habit_season_counts_filtered['habit'],\n",
    "    categories=selected_habits,\n",
    "    ordered=True\n",
    ")\n",
    "\n",
    "# Plot grouped bar chart\n",
    "plt.figure(figsize=(14,6))\n",
    "sns.barplot(x='habit', y='count', hue='season_label', data=habit_season_counts_filtered)\n",
    "plt.title('Selected Habit Frequencies by Season')\n",
    "plt.xlabel('Habit')\n",
    "plt.ylabel('Count')\n",
    "plt.xticks(rotation=45)\n",
    "plt.legend(title='Season')\n",
    "plt.show()\n",
    "\n"
   ]
  },
  {
   "cell_type": "code",
   "execution_count": 245,
   "id": "da22bdb1",
   "metadata": {},
   "outputs": [
    {
     "name": "stdout",
     "output_type": "stream",
     "text": [
      "   season season_label\n",
      "0       0       Winter\n",
      "1       0       Winter\n",
      "2       0       Winter\n",
      "3       0       Winter\n",
      "4       0       Winter\n"
     ]
    }
   ],
   "source": [
    "#since season is in 0 & 1 categorizing 0 as winter and 1 as Spring\n",
    "# Map numeric season to labels in the cleaned dataset\n",
    "d1_clean['season_label'] = d1_clean['season'].map({0: 'Winter', 1: 'Spring'})\n",
    "\n",
    "# Quick check\n",
    "print(d1_clean[['season', 'season_label']].head())\n"
   ]
  },
  {
   "cell_type": "code",
   "execution_count": null,
   "id": "3a993ba0",
   "metadata": {},
   "outputs": [
    {
     "name": "stdout",
     "output_type": "stream",
     "text": [
      "[0 1]\n",
      "season\n",
      "1    671\n",
      "0    147\n",
      "Name: count, dtype: int64\n"
     ]
    },
    {
     "data": {
      "image/png": "[encoded data removed]",
      "text/plain": [
       "<Figure size 600x400 with 1 Axes>"
      ]
     },
     "metadata": {},
     "output_type": "display_data"
    }
   ],
   "source": [
    "# Unique values in the 'season' column\n",
    "print(d1_clean['season'].unique())\n",
    "print(d1_clean['season'].value_counts())\n",
    "\n",
    "# Count rows per season\n",
    "season_counts = d1_clean['season'].value_counts().sort_index()  # ensures 0,1 order\n",
    "\n",
    "# Map numbers to labels for the x-axis\n",
    "season_labels = {0: 'Winter', 1: 'Spring'}\n",
    "season_counts.index = season_counts.index.map(season_labels)\n",
    "\n",
    "# Plot bar chart\n",
    "plt.figure(figsize=(6,4))\n",
    "season_counts.plot(kind='bar', color=['skyblue', 'lightgreen'], edgecolor='black')\n",
    "plt.title('Number of Observations per Season')\n",
    "plt.xlabel('Season')\n",
    "plt.ylabel('Count')\n",
    "plt.xticks(rotation=0)\n",
    "plt.show()\n",
    "\n",
    "#this is just showing observation during winter vs spring, no comparision with anything\n"
   ]
  }
 ],
 "metadata": {
  "kernelspec": {
   "display_name": "hit140env",
   "language": "python",
   "name": "python3"
  },
  "language_info": {
   "codemirror_mode": {
    "name": "ipython",
    "version": 3
   },
   "file_extension": ".py",
   "mimetype": "text/x-python",
   "name": "python",
   "nbconvert_exporter": "python",
   "pygments_lexer": "ipython3",
   "version": "3.12.11"
  }
 },
 "nbformat": 4,
 "nbformat_minor": 5
}
