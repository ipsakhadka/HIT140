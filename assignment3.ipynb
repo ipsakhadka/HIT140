{
 "cells": [
  {
   "cell_type": "code",
   "execution_count": 2,
   "id": "f8a86fb9",
   "metadata": {},
   "outputs": [],
   "source": [
    "#importing libraries\n",
    "import numpy as np\n",
    "import pandas as pd\n",
    "import seaborn as sns\n",
    "import matplotlib.pyplot as plt\n",
    "from scipy import stats\n"
   ]
  },
  {
   "cell_type": "code",
   "execution_count": null,
   "id": "22120ee0",
   "metadata": {},
   "outputs": [],
   "source": [
    "#importing datasets\n",
    "d1 =pd.read_csv(\"./dataset1.csv\")\n",
    "d1\n",
    "d2 = pd.read_csv(\"./dataset2.csv\")\n",
    "d2\n",
    "\n",
    "#d1 is dataset1 and d2 is dataset2"
   ]
  },
  {
   "cell_type": "code",
   "execution_count": null,
   "id": "368cb2ea",
   "metadata": {},
   "outputs": [],
   "source": [
    "#reading the dataset1, analyzing dtypes\n",
    "print (d1.shape)\n",
    "print (d1.head(5))\n",
    "print (d1.tail())\n",
    "print(d1.describe(include =\"float64\"))\n",
    "print(d1.describe(include =\"int64\"))\n",
    "print(d1.describe(include=\"object\"))\n",
    "\n"
   ]
  },
  {
   "cell_type": "markdown",
   "id": "ce6d5bcf",
   "metadata": {},
   "source": [
    "Investigation B \n",
    "Do the behaviours described above change following seasonal changes? \n",
    "It is known that in winter, alternative food sources are scarce and rat encounters are less frequent. In spring, food is more abundant and rat encounters are more common. To provide answers to both investigations, your team should decide the appropriate data science techniques to use for analysing the following datasets."
   ]
  },
  {
   "cell_type": "code",
   "execution_count": 6,
   "id": "690c5aec",
   "metadata": {},
   "outputs": [],
   "source": [
    "#We must see if bat–rat interactions or bat behaviours differ by season.\n",
    "#Bat behaviour (risk, reward, vigilance time)\n",
    "#Rat activity (rat arrivals, rat minutes)\n",
    "#Food availability and see if these vary noticeably between winter and spring."
   ]
  },
  {
   "cell_type": "code",
   "execution_count": 16,
   "id": "a7d7aa2c",
   "metadata": {},
   "outputs": [
    {
     "data": {
      "text/plain": [
       "season\n",
       "1    756\n",
       "0    151\n",
       "Name: count, dtype: int64"
      ]
     },
     "execution_count": 16,
     "metadata": {},
     "output_type": "execute_result"
    }
   ],
   "source": [
    "#counting values for season column in d1\n",
    "d1['season'].value_counts()"
   ]
  },
  {
   "cell_type": "code",
   "execution_count": 18,
   "id": "558c8bc1",
   "metadata": {},
   "outputs": [
    {
     "data": {
      "text/html": [
       "<div>\n",
       "<style scoped>\n",
       "    .dataframe tbody tr th:only-of-type {\n",
       "        vertical-align: middle;\n",
       "    }\n",
       "\n",
       "    .dataframe tbody tr th {\n",
       "        vertical-align: top;\n",
       "    }\n",
       "\n",
       "    .dataframe thead th {\n",
       "        text-align: right;\n",
       "    }\n",
       "</style>\n",
       "<table border=\"1\" class=\"dataframe\">\n",
       "  <thead>\n",
       "    <tr style=\"text-align: right;\">\n",
       "      <th></th>\n",
       "      <th>bat_landing_to_food</th>\n",
       "      <th>risk</th>\n",
       "      <th>reward</th>\n",
       "    </tr>\n",
       "    <tr>\n",
       "      <th>season</th>\n",
       "      <th></th>\n",
       "      <th></th>\n",
       "      <th></th>\n",
       "    </tr>\n",
       "  </thead>\n",
       "  <tbody>\n",
       "    <tr>\n",
       "      <th>0</th>\n",
       "      <td>6.039623</td>\n",
       "      <td>0.562914</td>\n",
       "      <td>0.364238</td>\n",
       "    </tr>\n",
       "    <tr>\n",
       "      <th>1</th>\n",
       "      <td>12.846335</td>\n",
       "      <td>0.481481</td>\n",
       "      <td>0.567460</td>\n",
       "    </tr>\n",
       "  </tbody>\n",
       "</table>\n",
       "</div>"
      ],
      "text/plain": [
       "        bat_landing_to_food      risk    reward\n",
       "season                                         \n",
       "0                  6.039623  0.562914  0.364238\n",
       "1                 12.846335  0.481481  0.567460"
      ]
     },
     "execution_count": 18,
     "metadata": {},
     "output_type": "execute_result"
    }
   ],
   "source": [
    "#grouping for seasonal statistical summary\n",
    "d1.groupby('season')[['bat_landing_to_food', 'risk', 'reward']].mean()"
   ]
  },
  {
   "cell_type": "code",
   "execution_count": 24,
   "id": "54a48930",
   "metadata": {},
   "outputs": [
    {
     "data": {
      "text/plain": [
       "start_time                   0\n",
       "bat_landing_to_food          0\n",
       "habit                        0\n",
       "rat_period_start             0\n",
       "rat_period_end               0\n",
       "seconds_after_rat_arrival    0\n",
       "risk                         0\n",
       "reward                       0\n",
       "month                        0\n",
       "sunset_time                  0\n",
       "hours_after_sunset           0\n",
       "season                       0\n",
       "dtype: int64"
      ]
     },
     "execution_count": 24,
     "metadata": {},
     "output_type": "execute_result"
    }
   ],
   "source": [
    "#data cleaning\n",
    "#finding missing values\n",
    "d1.isnull().sum()\n",
    "#let's fill missing values instead of dropping\n",
    "d1= d1.fillna({'habit':'NA'})\n",
    "#rechecking the missing values\n",
    "d1.isnull().sum()\n",
    "\n"
   ]
  },
  {
   "cell_type": "code",
   "execution_count": 27,
   "id": "93d0b0d1",
   "metadata": {},
   "outputs": [
    {
     "name": "stdout",
     "output_type": "stream",
     "text": [
      "1\n",
      "0\n"
     ]
    }
   ],
   "source": [
    "#checking for duplicates:\n",
    "dup1= print(d1.duplicated().sum())\n",
    "dup2= print(d2.duplicated().sum())"
   ]
  },
  {
   "cell_type": "code",
   "execution_count": 28,
   "id": "c753425b",
   "metadata": {},
   "outputs": [
    {
     "name": "stdout",
     "output_type": "stream",
     "text": [
      "0\n"
     ]
    }
   ],
   "source": [
    "# dropping the 1duplicate in dataset1\n",
    "d1 = d1.drop_duplicates(keep='last')\n",
    "\n",
    "#checking the update\n",
    "dup1= print(d1.duplicated().sum())"
   ]
  },
  {
   "cell_type": "code",
   "execution_count": 30,
   "id": "19276fce",
   "metadata": {},
   "outputs": [
    {
     "data": {
      "text/plain": [
       "time                  0\n",
       "month                 0\n",
       "hours_after_sunset    0\n",
       "bat_landing_number    0\n",
       "food_availability     0\n",
       "rat_minutes           0\n",
       "rat_arrival_number    0\n",
       "dtype: int64"
      ]
     },
     "execution_count": 30,
     "metadata": {},
     "output_type": "execute_result"
    }
   ],
   "source": [
    "#missing values of d2\n",
    "d2.isnull().sum()\n",
    "\n",
    "#output- 0 missing values\n"
   ]
  },
  {
   "cell_type": "code",
   "execution_count": null,
   "id": "62bf5b11",
   "metadata": {},
   "outputs": [],
   "source": [
    "#data merging"
   ]
  }
 ],
 "metadata": {
  "kernelspec": {
   "display_name": "hit140env",
   "language": "python",
   "name": "python3"
  },
  "language_info": {
   "codemirror_mode": {
    "name": "ipython",
    "version": 3
   },
   "file_extension": ".py",
   "mimetype": "text/x-python",
   "name": "python",
   "nbconvert_exporter": "python",
   "pygments_lexer": "ipython3",
   "version": "3.12.11"
  }
 },
 "nbformat": 4,
 "nbformat_minor": 5
}
